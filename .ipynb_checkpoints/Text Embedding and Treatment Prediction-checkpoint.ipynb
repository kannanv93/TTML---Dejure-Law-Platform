{
 "cells": [
  {
   "cell_type": "code",
   "execution_count": 1,
   "metadata": {},
   "outputs": [],
   "source": [
    "import numpy as np\n",
    "import pandas as pd\n",
    "import statsmodels.api as sm\n",
    "from linearmodels import IV2SLS\n",
    "from sklearn.ensemble import RandomForestRegressor\n",
    "\n",
    "from sklearn.model_selection import train_test_split\n",
    "from statsmodels.tools import add_constant\n",
    "from bs4 import BeautifulSoup\n",
    "import pandas as pd\n",
    "import numpy as np\n",
    "import os\n",
    "from tqdm import tqdm\n",
    "import warnings\n",
    "warnings.filterwarnings('ignore')\n",
    "import shutil\n",
    "import re\n",
    "import time\n",
    "import numpy as np\n",
    "import pandas as pd\n",
    "from sklearn.linear_model import LogisticRegression\n",
    "from sklearn.naive_bayes import BernoulliNB\n",
    "from sklearn import metrics\n",
    "from sklearn.model_selection import cross_validate\n",
    "from sklearn.model_selection import train_test_split\n",
    "from sklearn.feature_extraction.text import CountVectorizer\n",
    "from sklearn.feature_extraction.text import TfidfVectorizer"
   ]
  },
  {
   "cell_type": "code",
   "execution_count": 3,
   "metadata": {},
   "outputs": [
    {
     "data": {
      "text/html": [
       "<div>\n",
       "<style scoped>\n",
       "    .dataframe tbody tr th:only-of-type {\n",
       "        vertical-align: middle;\n",
       "    }\n",
       "\n",
       "    .dataframe tbody tr th {\n",
       "        vertical-align: top;\n",
       "    }\n",
       "\n",
       "    .dataframe thead th {\n",
       "        text-align: right;\n",
       "    }\n",
       "</style>\n",
       "<table border=\"1\" class=\"dataframe\">\n",
       "  <thead>\n",
       "    <tr style=\"text-align: right;\">\n",
       "      <th></th>\n",
       "      <th>original_path</th>\n",
       "      <th>act_path</th>\n",
       "      <th>Juridiction</th>\n",
       "      <th>year</th>\n",
       "      <th>file_name</th>\n",
       "      <th>Sections_302</th>\n",
       "      <th>Sections_304</th>\n",
       "      <th>Sections_304B</th>\n",
       "      <th>Sections_315</th>\n",
       "      <th>Sections_316</th>\n",
       "      <th>...</th>\n",
       "      <th>Sections_395</th>\n",
       "      <th>Sections_396</th>\n",
       "      <th>Sections_397</th>\n",
       "      <th>Sections_398</th>\n",
       "      <th>Sections_435</th>\n",
       "      <th>Sections_436</th>\n",
       "      <th>Sections_437</th>\n",
       "      <th>Sections_438</th>\n",
       "      <th>flag</th>\n",
       "      <th>Len</th>\n",
       "    </tr>\n",
       "  </thead>\n",
       "  <tbody>\n",
       "    <tr>\n",
       "      <th>5451</th>\n",
       "      <td>/scratch/kv942/Dejure/delhi/2014/34613760.txt</td>\n",
       "      <td>/scratch/kv942/Dejure/delhi_1_crime/34613760.txt</td>\n",
       "      <td>delhi</td>\n",
       "      <td>2014</td>\n",
       "      <td>34613760</td>\n",
       "      <td>1</td>\n",
       "      <td>1</td>\n",
       "      <td>0</td>\n",
       "      <td>1</td>\n",
       "      <td>0</td>\n",
       "      <td>...</td>\n",
       "      <td>0</td>\n",
       "      <td>1</td>\n",
       "      <td>0</td>\n",
       "      <td>0</td>\n",
       "      <td>1</td>\n",
       "      <td>1</td>\n",
       "      <td>0</td>\n",
       "      <td>1</td>\n",
       "      <td>1</td>\n",
       "      <td>2056788</td>\n",
       "    </tr>\n",
       "    <tr>\n",
       "      <th>103133</th>\n",
       "      <td>/scratch/kv942/Dejure/allahabad/2017/37475462.txt</td>\n",
       "      <td>/scratch/kv942/Dejure/allahabad_crime/37475462...</td>\n",
       "      <td>allahabad</td>\n",
       "      <td>2017</td>\n",
       "      <td>37475462</td>\n",
       "      <td>1</td>\n",
       "      <td>1</td>\n",
       "      <td>0</td>\n",
       "      <td>1</td>\n",
       "      <td>1</td>\n",
       "      <td>...</td>\n",
       "      <td>0</td>\n",
       "      <td>0</td>\n",
       "      <td>0</td>\n",
       "      <td>0</td>\n",
       "      <td>1</td>\n",
       "      <td>0</td>\n",
       "      <td>1</td>\n",
       "      <td>0</td>\n",
       "      <td>1</td>\n",
       "      <td>1301263</td>\n",
       "    </tr>\n",
       "    <tr>\n",
       "      <th>7019</th>\n",
       "      <td>/scratch/kv942/Dejure/delhi/2015/154440315.txt</td>\n",
       "      <td>/scratch/kv942/Dejure/delhi_1_crime/154440315.txt</td>\n",
       "      <td>delhi</td>\n",
       "      <td>2015</td>\n",
       "      <td>154440315</td>\n",
       "      <td>1</td>\n",
       "      <td>1</td>\n",
       "      <td>0</td>\n",
       "      <td>1</td>\n",
       "      <td>1</td>\n",
       "      <td>...</td>\n",
       "      <td>1</td>\n",
       "      <td>1</td>\n",
       "      <td>1</td>\n",
       "      <td>0</td>\n",
       "      <td>0</td>\n",
       "      <td>1</td>\n",
       "      <td>1</td>\n",
       "      <td>1</td>\n",
       "      <td>1</td>\n",
       "      <td>1158189</td>\n",
       "    </tr>\n",
       "    <tr>\n",
       "      <th>11626</th>\n",
       "      <td>/scratch/kv942/Dejure/delhi/2017/127568675.txt</td>\n",
       "      <td>/scratch/kv942/Dejure/delhi_1_crime/127568675.txt</td>\n",
       "      <td>delhi</td>\n",
       "      <td>2017</td>\n",
       "      <td>127568675</td>\n",
       "      <td>1</td>\n",
       "      <td>1</td>\n",
       "      <td>0</td>\n",
       "      <td>1</td>\n",
       "      <td>0</td>\n",
       "      <td>...</td>\n",
       "      <td>1</td>\n",
       "      <td>1</td>\n",
       "      <td>1</td>\n",
       "      <td>1</td>\n",
       "      <td>1</td>\n",
       "      <td>1</td>\n",
       "      <td>1</td>\n",
       "      <td>1</td>\n",
       "      <td>1</td>\n",
       "      <td>1122351</td>\n",
       "    </tr>\n",
       "    <tr>\n",
       "      <th>3758</th>\n",
       "      <td>/scratch/kv942/Dejure/delhi/2013/170462018.txt</td>\n",
       "      <td>/scratch/kv942/Dejure/delhi_1_crime/170462018.txt</td>\n",
       "      <td>delhi</td>\n",
       "      <td>2013</td>\n",
       "      <td>170462018</td>\n",
       "      <td>0</td>\n",
       "      <td>0</td>\n",
       "      <td>0</td>\n",
       "      <td>0</td>\n",
       "      <td>0</td>\n",
       "      <td>...</td>\n",
       "      <td>1</td>\n",
       "      <td>0</td>\n",
       "      <td>1</td>\n",
       "      <td>0</td>\n",
       "      <td>0</td>\n",
       "      <td>1</td>\n",
       "      <td>1</td>\n",
       "      <td>1</td>\n",
       "      <td>1</td>\n",
       "      <td>902716</td>\n",
       "    </tr>\n",
       "  </tbody>\n",
       "</table>\n",
       "<p>5 rows × 41 columns</p>\n",
       "</div>"
      ],
      "text/plain": [
       "                                            original_path  \\\n",
       "5451        /scratch/kv942/Dejure/delhi/2014/34613760.txt   \n",
       "103133  /scratch/kv942/Dejure/allahabad/2017/37475462.txt   \n",
       "7019       /scratch/kv942/Dejure/delhi/2015/154440315.txt   \n",
       "11626      /scratch/kv942/Dejure/delhi/2017/127568675.txt   \n",
       "3758       /scratch/kv942/Dejure/delhi/2013/170462018.txt   \n",
       "\n",
       "                                                 act_path Juridiction  year  \\\n",
       "5451     /scratch/kv942/Dejure/delhi_1_crime/34613760.txt       delhi  2014   \n",
       "103133  /scratch/kv942/Dejure/allahabad_crime/37475462...   allahabad  2017   \n",
       "7019    /scratch/kv942/Dejure/delhi_1_crime/154440315.txt       delhi  2015   \n",
       "11626   /scratch/kv942/Dejure/delhi_1_crime/127568675.txt       delhi  2017   \n",
       "3758    /scratch/kv942/Dejure/delhi_1_crime/170462018.txt       delhi  2013   \n",
       "\n",
       "        file_name  Sections_302  Sections_304  Sections_304B  Sections_315  \\\n",
       "5451     34613760             1             1              0             1   \n",
       "103133   37475462             1             1              0             1   \n",
       "7019    154440315             1             1              0             1   \n",
       "11626   127568675             1             1              0             1   \n",
       "3758    170462018             0             0              0             0   \n",
       "\n",
       "        Sections_316  ...  Sections_395  Sections_396  Sections_397  \\\n",
       "5451               0  ...             0             1             0   \n",
       "103133             1  ...             0             0             0   \n",
       "7019               1  ...             1             1             1   \n",
       "11626              0  ...             1             1             1   \n",
       "3758               0  ...             1             0             1   \n",
       "\n",
       "        Sections_398  Sections_435  Sections_436  Sections_437  Sections_438  \\\n",
       "5451               0             1             1             0             1   \n",
       "103133             0             1             0             1             0   \n",
       "7019               0             0             1             1             1   \n",
       "11626              1             1             1             1             1   \n",
       "3758               0             0             1             1             1   \n",
       "\n",
       "        flag      Len  \n",
       "5451       1  2056788  \n",
       "103133     1  1301263  \n",
       "7019       1  1158189  \n",
       "11626      1  1122351  \n",
       "3758       1   902716  \n",
       "\n",
       "[5 rows x 41 columns]"
      ]
     },
     "execution_count": 3,
     "metadata": {},
     "output_type": "execute_result"
    }
   ],
   "source": [
    "df_crime = pd.read_pickle('/scratch/kv942/Dejure/Notebooks/df_crime.pkl')\n",
    "df_crime.head()"
   ]
  },
  {
   "cell_type": "code",
   "execution_count": 4,
   "metadata": {},
   "outputs": [],
   "source": [
    "df_crime = df_crime.reset_index()"
   ]
  },
  {
   "cell_type": "code",
   "execution_count": 5,
   "metadata": {},
   "outputs": [
    {
     "data": {
      "text/plain": [
       "(39104, 42)"
      ]
     },
     "execution_count": 5,
     "metadata": {},
     "output_type": "execute_result"
    }
   ],
   "source": [
    "df_crime.shape"
   ]
  },
  {
   "cell_type": "code",
   "execution_count": 7,
   "metadata": {},
   "outputs": [],
   "source": [
    "from bs4 import BeautifulSoup\n",
    "import os\n",
    "import pandas as pd\n",
    "import datetime as dt\n",
    "\n",
    "class extractMetadata():\n",
    "    def __init__(self, fpath):\n",
    "        with open(fpath, 'r') as f:\n",
    "            self.soup = BeautifulSoup(f.read(), 'html.parser').find('div', attrs={'class':\"judgments\"})\n",
    "        self.case_text = self.soup.text\n",
    "\n",
    "    def null_check(self, soup_item, attr):\n",
    "        if attr=='text':\n",
    "            try:\n",
    "                return soup_item.text\n",
    "            except:\n",
    "                return\n",
    "        else:\n",
    "            return soup_item.find(attr)\n",
    "\n",
    "\n",
    "    def get_court(self):\n",
    "        source = self.soup.find('div', attrs={'class':'docsource_main'})\n",
    "        self.court = self.null_check(source, 'text')\n",
    "        return self.court\n",
    "\n",
    "    def get_pre(self):\n",
    "        pre = self.soup.find('pre')\n",
    "        self.pre = self.null_check(pre, 'text')\n",
    "        return self.pre\n",
    "\n",
    "    def get_title(self):\n",
    "        title = self.null_check(self.soup.find_all('div', attrs={'class': 'doc_title'})[-1], 'text')\n",
    "        self.title = title\n",
    "        small_title, date = title.split(' on ')\n",
    "        self.petitioner, self.respondent = small_title.split(' vs ')\n",
    "        date = dt.datetime.strptime(date.strip(), '%d %B, %Y').date()\n",
    "        self.date = dt.datetime.strftime(date, '%d-%m-%Y')\n",
    "        return self.title\n",
    "\n",
    "    def get_author(self):\n",
    "        # NOTE: the author could be mentioned in the pretag when listing the CORAM\n",
    "        author = self.null_check(self.soup.find('div', attrs={'class':'doc_author'}), 'text')\n",
    "        if author:\n",
    "            self.author = author.split('Author:')[-1]\n",
    "        else:\n",
    "            self.author = None\n",
    "        return self.author\n",
    "\n",
    "    def get_bench(self):\n",
    "        bench = self.null_check(self.soup.find('div', attrs={'class':'doc_bench'}), 'text')\n",
    "        if bench:\n",
    "            self.bench = bench.split('Bench:')[-1]\n",
    "        else:\n",
    "            self.bench = None\n",
    "        return self.bench\n",
    "\n",
    "    def get_eq_citations(self):\n",
    "        eq_citations = self.null_check(self.soup.find('div', attrs={'class':'doc_citations'}), 'text')\n",
    "        if eq_citations:\n",
    "            self.eq_citations = eq_citations.split('Equivalent citations:')[-1]\n",
    "        else:\n",
    "            self.eq_citations = None\n",
    "        return self.eq_citations\n",
    "\n",
    "    def get_jud_order(self):\n",
    "        # make a guess about whether the document is a judgment or an order\n",
    "        # 0 if ambiguous, 1 if judgment, -1 if order\n",
    "\n",
    "        self.jud_order = 0\n",
    "        if any([x in self.case_text for x in ['JUDGMENT', 'JUDGEMENT']]):\n",
    "            self.jud_order += 1\n",
    "\n",
    "        if 'ORDER' in self.case_text:\n",
    "            self.jud_order+=1\n",
    "        \n",
    "        return self.jud_order\n",
    "\n",
    "    def get_citations(self):\n",
    "        # note: these citations are to both cases and statutes\n",
    "        self.citations = [x['href'] for x in self.soup.find_all('a')]\n",
    "        return self.citations\n",
    "\n",
    "    def get_all_info(self):\n",
    "        info = {}\n",
    "\n",
    "        self.get_citations()\n",
    "        self.get_jud_order()\n",
    "        self.get_eq_citations()\n",
    "        self.get_court()\n",
    "        self.get_bench()\n",
    "        self.get_author()\n",
    "        self.get_title()\n",
    "        self.get_pre()\n",
    "\n",
    "        info['court'] = self.court\n",
    "        info['author'] = self.author\n",
    "        info['title'] = self.title\n",
    "        info['petitioner'] = self.petitioner\n",
    "        info['respondent'] = self.respondent\n",
    "        info['doc_date'] = self.date\n",
    "        #info['pre'] = self.pre\n",
    "        info['citations'] = self.citations\n",
    "        info['eq_citations'] = self.eq_citations\n",
    "        info['judgment_order'] = self.jud_order\n",
    "        return info\n",
    "\n"
   ]
  },
  {
   "cell_type": "code",
   "execution_count": 197,
   "metadata": {},
   "outputs": [],
   "source": [
    "temp = pd.DataFrame(info_dict).T"
   ]
  },
  {
   "cell_type": "code",
   "execution_count": 201,
   "metadata": {},
   "outputs": [],
   "source": [
    "temp = temp.reset_index()"
   ]
  },
  {
   "cell_type": "code",
   "execution_count": 202,
   "metadata": {},
   "outputs": [],
   "source": [
    "temp.to_csv(\"/scratch/kv942/Dejure/Notebooks/case_info.csv\",index=False)"
   ]
  },
  {
   "cell_type": "code",
   "execution_count": 193,
   "metadata": {},
   "outputs": [
    {
     "name": "stderr",
     "output_type": "stream",
     "text": [
      "39104it [04:40, 139.52it/s]\n"
     ]
    }
   ],
   "source": [
    "info_dict ={}\n",
    "for index,row in tqdm(df_crime.iterrows()):\n",
    "    try:        \n",
    "        case = extractMetadata(row.act_path)\n",
    "        info = case.get_all_info()\n",
    "        info_dict[row.file_name] = info\n",
    "        \n",
    "    except:\n",
    "        continue\n"
   ]
  },
  {
   "cell_type": "code",
   "execution_count": 203,
   "metadata": {},
   "outputs": [
    {
     "data": {
      "text/html": [
       "<div>\n",
       "<style scoped>\n",
       "    .dataframe tbody tr th:only-of-type {\n",
       "        vertical-align: middle;\n",
       "    }\n",
       "\n",
       "    .dataframe tbody tr th {\n",
       "        vertical-align: top;\n",
       "    }\n",
       "\n",
       "    .dataframe thead th {\n",
       "        text-align: right;\n",
       "    }\n",
       "</style>\n",
       "<table border=\"1\" class=\"dataframe\">\n",
       "  <thead>\n",
       "    <tr style=\"text-align: right;\">\n",
       "      <th></th>\n",
       "      <th>index</th>\n",
       "      <th>court</th>\n",
       "      <th>author</th>\n",
       "      <th>title</th>\n",
       "      <th>petitioner</th>\n",
       "      <th>respondent</th>\n",
       "      <th>doc_date</th>\n",
       "      <th>citations</th>\n",
       "      <th>eq_citations</th>\n",
       "      <th>judgment_order</th>\n",
       "    </tr>\n",
       "  </thead>\n",
       "  <tbody>\n",
       "    <tr>\n",
       "      <th>0</th>\n",
       "      <td>34613760</td>\n",
       "      <td>Delhi High Court</td>\n",
       "      <td>Gita Mittal</td>\n",
       "      <td>Vishal Yadav vs State Of U.P. on 2 April, 2014</td>\n",
       "      <td>Vishal Yadav</td>\n",
       "      <td>State Of U.P.</td>\n",
       "      <td>02-04-2014</td>\n",
       "      <td>[/doc/118703205/, /doc/695990/, /doc/1560742/,...</td>\n",
       "      <td>None</td>\n",
       "      <td>0</td>\n",
       "    </tr>\n",
       "    <tr>\n",
       "      <th>1</th>\n",
       "      <td>37475462</td>\n",
       "      <td>Allahabad High Court</td>\n",
       "      <td>None</td>\n",
       "      <td>Swami Vasudevanand Saraswati ... vs Jagat Guru...</td>\n",
       "      <td>Swami Vasudevanand Saraswati ...</td>\n",
       "      <td>Jagat Guru Shankarcharya ...</td>\n",
       "      <td>22-09-2017</td>\n",
       "      <td>[/doc/750643/, /doc/750643/, /doc/1671917/, /d...</td>\n",
       "      <td>None</td>\n",
       "      <td>0</td>\n",
       "    </tr>\n",
       "    <tr>\n",
       "      <th>2</th>\n",
       "      <td>154440315</td>\n",
       "      <td>Delhi High Court</td>\n",
       "      <td>Gita Mittal</td>\n",
       "      <td>Vishal Yadav vs State Govt. Of Up on 6 Februar...</td>\n",
       "      <td>Vishal Yadav</td>\n",
       "      <td>State Govt. Of Up</td>\n",
       "      <td>06-02-2015</td>\n",
       "      <td>[/doc/1850315/, /doc/37788/, /doc/1560742/, /d...</td>\n",
       "      <td>None</td>\n",
       "      <td>0</td>\n",
       "    </tr>\n",
       "    <tr>\n",
       "      <th>3</th>\n",
       "      <td>127568675</td>\n",
       "      <td>Delhi High Court</td>\n",
       "      <td>None</td>\n",
       "      <td>Sushil Arora vs State on 8 February, 2017</td>\n",
       "      <td>Sushil Arora</td>\n",
       "      <td>State</td>\n",
       "      <td>08-02-2017</td>\n",
       "      <td>[/doc/137587/, /doc/1669125/, /doc/1934415/, /...</td>\n",
       "      <td>None</td>\n",
       "      <td>1</td>\n",
       "    </tr>\n",
       "    <tr>\n",
       "      <th>4</th>\n",
       "      <td>170462018</td>\n",
       "      <td>Delhi High Court</td>\n",
       "      <td>Gita Mittal</td>\n",
       "      <td>Delhi High Court Bar Association &amp; ... vs Govt...</td>\n",
       "      <td>Delhi High Court Bar Association &amp; ...</td>\n",
       "      <td>Govt. Of Nct Of Delhi &amp; Anr.</td>\n",
       "      <td>09-10-2013</td>\n",
       "      <td>[/doc/476269/, /doc/138097064/, /doc/138097064...</td>\n",
       "      <td>None</td>\n",
       "      <td>0</td>\n",
       "    </tr>\n",
       "  </tbody>\n",
       "</table>\n",
       "</div>"
      ],
      "text/plain": [
       "       index                 court        author  \\\n",
       "0   34613760      Delhi High Court   Gita Mittal   \n",
       "1   37475462  Allahabad High Court          None   \n",
       "2  154440315      Delhi High Court   Gita Mittal   \n",
       "3  127568675      Delhi High Court          None   \n",
       "4  170462018      Delhi High Court   Gita Mittal   \n",
       "\n",
       "                                               title  \\\n",
       "0     Vishal Yadav vs State Of U.P. on 2 April, 2014   \n",
       "1  Swami Vasudevanand Saraswati ... vs Jagat Guru...   \n",
       "2  Vishal Yadav vs State Govt. Of Up on 6 Februar...   \n",
       "3          Sushil Arora vs State on 8 February, 2017   \n",
       "4  Delhi High Court Bar Association & ... vs Govt...   \n",
       "\n",
       "                               petitioner                    respondent  \\\n",
       "0                            Vishal Yadav                 State Of U.P.   \n",
       "1        Swami Vasudevanand Saraswati ...  Jagat Guru Shankarcharya ...   \n",
       "2                            Vishal Yadav             State Govt. Of Up   \n",
       "3                            Sushil Arora                         State   \n",
       "4  Delhi High Court Bar Association & ...  Govt. Of Nct Of Delhi & Anr.   \n",
       "\n",
       "     doc_date                                          citations eq_citations  \\\n",
       "0  02-04-2014  [/doc/118703205/, /doc/695990/, /doc/1560742/,...         None   \n",
       "1  22-09-2017  [/doc/750643/, /doc/750643/, /doc/1671917/, /d...         None   \n",
       "2  06-02-2015  [/doc/1850315/, /doc/37788/, /doc/1560742/, /d...         None   \n",
       "3  08-02-2017  [/doc/137587/, /doc/1669125/, /doc/1934415/, /...         None   \n",
       "4  09-10-2013  [/doc/476269/, /doc/138097064/, /doc/138097064...         None   \n",
       "\n",
       "  judgment_order  \n",
       "0              0  \n",
       "1              0  \n",
       "2              0  \n",
       "3              1  \n",
       "4              0  "
      ]
     },
     "execution_count": 203,
     "metadata": {},
     "output_type": "execute_result"
    }
   ],
   "source": [
    "temp.head()"
   ]
  },
  {
   "cell_type": "code",
   "execution_count": 4,
   "metadata": {},
   "outputs": [
    {
     "name": "stderr",
     "output_type": "stream",
     "text": [
      "100%|██████████| 39104/39104 [13:47<00:00, 47.28it/s]\n"
     ]
    }
   ],
   "source": [
    "text_corpus = []\n",
    "for file in tqdm(df_crime.act_path):\n",
    "\n",
    "    text= open(file,'r').read()\n",
    "    parsed_html = BeautifulSoup(text)\n",
    "    text = parsed_html.body.find('div', attrs={'class':'judgments'}).text\n",
    "    text_corpus.append(text)"
   ]
  },
  {
   "cell_type": "code",
   "execution_count": 5,
   "metadata": {},
   "outputs": [],
   "source": [
    "text_corpus_df = pd.DataFrame(text_corpus,columns=['Text'])"
   ]
  },
  {
   "cell_type": "code",
   "execution_count": 9,
   "metadata": {},
   "outputs": [
    {
     "data": {
      "text/html": [
       "<div>\n",
       "<style scoped>\n",
       "    .dataframe tbody tr th:only-of-type {\n",
       "        vertical-align: middle;\n",
       "    }\n",
       "\n",
       "    .dataframe tbody tr th {\n",
       "        vertical-align: top;\n",
       "    }\n",
       "\n",
       "    .dataframe thead th {\n",
       "        text-align: right;\n",
       "    }\n",
       "</style>\n",
       "<table border=\"1\" class=\"dataframe\">\n",
       "  <thead>\n",
       "    <tr style=\"text-align: right;\">\n",
       "      <th></th>\n",
       "      <th>Text</th>\n",
       "    </tr>\n",
       "  </thead>\n",
       "  <tbody>\n",
       "    <tr>\n",
       "      <th>0</th>\n",
       "      <td>Delhi High Court Vishal Yadav vs State Of U.P....</td>\n",
       "    </tr>\n",
       "    <tr>\n",
       "      <th>1</th>\n",
       "      <td>Allahabad High Court Swami Vasudevanand Sarasw...</td>\n",
       "    </tr>\n",
       "    <tr>\n",
       "      <th>2</th>\n",
       "      <td>Delhi High Court Vishal Yadav vs State Govt. O...</td>\n",
       "    </tr>\n",
       "    <tr>\n",
       "      <th>3</th>\n",
       "      <td>Delhi High Court Sushil Arora vs State on 8 Fe...</td>\n",
       "    </tr>\n",
       "    <tr>\n",
       "      <th>4</th>\n",
       "      <td>Delhi High Court Delhi High Court Bar Associat...</td>\n",
       "    </tr>\n",
       "  </tbody>\n",
       "</table>\n",
       "</div>"
      ],
      "text/plain": [
       "                                                Text\n",
       "0  Delhi High Court Vishal Yadav vs State Of U.P....\n",
       "1  Allahabad High Court Swami Vasudevanand Sarasw...\n",
       "2  Delhi High Court Vishal Yadav vs State Govt. O...\n",
       "3  Delhi High Court Sushil Arora vs State on 8 Fe...\n",
       "4  Delhi High Court Delhi High Court Bar Associat..."
      ]
     },
     "execution_count": 9,
     "metadata": {},
     "output_type": "execute_result"
    }
   ],
   "source": [
    "#text_corpus_df.to_pickle('/scratch/kv942/Dejure/Notebooks/text_corpus_df.pkl')\n",
    "#text_corpus_df.head()"
   ]
  },
  {
   "cell_type": "code",
   "execution_count": 8,
   "metadata": {},
   "outputs": [],
   "source": [
    "text_corpus_df = pd.read_pickle('/scratch/kv942/Dejure/Notebooks/text_corpus_df.pkl')"
   ]
  },
  {
   "cell_type": "code",
   "execution_count": 9,
   "metadata": {},
   "outputs": [],
   "source": [
    "text_corpus_df['Text'] = [' '.join(x.split()) for x in text_corpus_df.Text]"
   ]
  },
  {
   "cell_type": "code",
   "execution_count": 10,
   "metadata": {
    "scrolled": true
   },
   "outputs": [
    {
     "data": {
      "text/html": [
       "<div>\n",
       "<style scoped>\n",
       "    .dataframe tbody tr th:only-of-type {\n",
       "        vertical-align: middle;\n",
       "    }\n",
       "\n",
       "    .dataframe tbody tr th {\n",
       "        vertical-align: top;\n",
       "    }\n",
       "\n",
       "    .dataframe thead th {\n",
       "        text-align: right;\n",
       "    }\n",
       "</style>\n",
       "<table border=\"1\" class=\"dataframe\">\n",
       "  <thead>\n",
       "    <tr style=\"text-align: right;\">\n",
       "      <th></th>\n",
       "      <th>Text</th>\n",
       "    </tr>\n",
       "  </thead>\n",
       "  <tbody>\n",
       "    <tr>\n",
       "      <th>0</th>\n",
       "      <td>Delhi High Court Vishal Yadav vs State Of U.P....</td>\n",
       "    </tr>\n",
       "    <tr>\n",
       "      <th>1</th>\n",
       "      <td>Allahabad High Court Swami Vasudevanand Sarasw...</td>\n",
       "    </tr>\n",
       "    <tr>\n",
       "      <th>2</th>\n",
       "      <td>Delhi High Court Vishal Yadav vs State Govt. O...</td>\n",
       "    </tr>\n",
       "    <tr>\n",
       "      <th>3</th>\n",
       "      <td>Delhi High Court Sushil Arora vs State on 8 Fe...</td>\n",
       "    </tr>\n",
       "    <tr>\n",
       "      <th>4</th>\n",
       "      <td>Delhi High Court Delhi High Court Bar Associat...</td>\n",
       "    </tr>\n",
       "  </tbody>\n",
       "</table>\n",
       "</div>"
      ],
      "text/plain": [
       "                                                Text\n",
       "0  Delhi High Court Vishal Yadav vs State Of U.P....\n",
       "1  Allahabad High Court Swami Vasudevanand Sarasw...\n",
       "2  Delhi High Court Vishal Yadav vs State Govt. O...\n",
       "3  Delhi High Court Sushil Arora vs State on 8 Fe...\n",
       "4  Delhi High Court Delhi High Court Bar Associat..."
      ]
     },
     "execution_count": 10,
     "metadata": {},
     "output_type": "execute_result"
    }
   ],
   "source": [
    "text_corpus_df.head()"
   ]
  },
  {
   "cell_type": "code",
   "execution_count": 11,
   "metadata": {},
   "outputs": [],
   "source": [
    "temp = pd.concat([df_crime[['file_name','Juridiction']],text_corpus_df],axis=1)"
   ]
  },
  {
   "cell_type": "code",
   "execution_count": 162,
   "metadata": {},
   "outputs": [],
   "source": [
    "temp.to_csv(\"text.csv\",index=False)"
   ]
  },
  {
   "cell_type": "code",
   "execution_count": 3,
   "metadata": {},
   "outputs": [],
   "source": [
    "df = pd.read_pickle(\"./violent_crimes.pkl\")"
   ]
  },
  {
   "cell_type": "code",
   "execution_count": 5,
   "metadata": {},
   "outputs": [],
   "source": [
    "f1 = pd.read_csv(\"flag1.csv\")"
   ]
  },
  {
   "cell_type": "code",
   "execution_count": 6,
   "metadata": {},
   "outputs": [],
   "source": [
    "f2 = pd.read_csv(\"Flag2.csv\")"
   ]
  },
  {
   "cell_type": "code",
   "execution_count": 7,
   "metadata": {},
   "outputs": [],
   "source": [
    "f2.columns = f1.columns"
   ]
  },
  {
   "cell_type": "code",
   "execution_count": 8,
   "metadata": {},
   "outputs": [],
   "source": [
    "cases = pd.concat([f1,f2],axis =0)"
   ]
  },
  {
   "cell_type": "code",
   "execution_count": 9,
   "metadata": {},
   "outputs": [],
   "source": [
    "#excluding one NAN in Case ID\n",
    "cases = cases.sort_values(by='Case')[:600]"
   ]
  },
  {
   "cell_type": "code",
   "execution_count": 10,
   "metadata": {},
   "outputs": [],
   "source": [
    "cases.set_index(['Case'],inplace=True)"
   ]
  },
  {
   "cell_type": "code",
   "execution_count": 11,
   "metadata": {
    "scrolled": true
   },
   "outputs": [
    {
     "data": {
      "text/html": [
       "<div>\n",
       "<style scoped>\n",
       "    .dataframe tbody tr th:only-of-type {\n",
       "        vertical-align: middle;\n",
       "    }\n",
       "\n",
       "    .dataframe tbody tr th {\n",
       "        vertical-align: top;\n",
       "    }\n",
       "\n",
       "    .dataframe thead th {\n",
       "        text-align: right;\n",
       "    }\n",
       "</style>\n",
       "<table border=\"1\" class=\"dataframe\">\n",
       "  <thead>\n",
       "    <tr style=\"text-align: right;\">\n",
       "      <th></th>\n",
       "      <th>original_path</th>\n",
       "      <th>act_path</th>\n",
       "      <th>Juridiction</th>\n",
       "      <th>year</th>\n",
       "      <th>file_name</th>\n",
       "      <th>Sections_302</th>\n",
       "      <th>Sections_304</th>\n",
       "      <th>Sections_304B</th>\n",
       "      <th>Sections_315</th>\n",
       "      <th>Sections_316</th>\n",
       "      <th>...</th>\n",
       "      <th>Sections_397</th>\n",
       "      <th>Sections_398</th>\n",
       "      <th>Sections_435</th>\n",
       "      <th>Sections_436</th>\n",
       "      <th>Sections_437</th>\n",
       "      <th>Sections_438</th>\n",
       "      <th>flag</th>\n",
       "      <th>Len</th>\n",
       "      <th>Text</th>\n",
       "      <th>lenient/harsh</th>\n",
       "    </tr>\n",
       "  </thead>\n",
       "  <tbody>\n",
       "    <tr>\n",
       "      <th>0.0</th>\n",
       "      <td>/scratch/kv942/Dejure/delhi/2010/172888257.txt</td>\n",
       "      <td>/scratch/kv942/Dejure/delhi_1_crime/172888257.txt</td>\n",
       "      <td>delhi</td>\n",
       "      <td>2010</td>\n",
       "      <td>172888257</td>\n",
       "      <td>0</td>\n",
       "      <td>0</td>\n",
       "      <td>0</td>\n",
       "      <td>0</td>\n",
       "      <td>0</td>\n",
       "      <td>...</td>\n",
       "      <td>0</td>\n",
       "      <td>0</td>\n",
       "      <td>0</td>\n",
       "      <td>0</td>\n",
       "      <td>0</td>\n",
       "      <td>0</td>\n",
       "      <td>1</td>\n",
       "      <td>61742</td>\n",
       "      <td>\\nDelhi High Court\\nRakesh vs State on 28 May,...</td>\n",
       "      <td>0.0</td>\n",
       "    </tr>\n",
       "    <tr>\n",
       "      <th>1.0</th>\n",
       "      <td>/scratch/kv942/Dejure/delhi/2017/158657439.txt</td>\n",
       "      <td>/scratch/kv942/Dejure/delhi_1_crime/158657439.txt</td>\n",
       "      <td>delhi</td>\n",
       "      <td>2017</td>\n",
       "      <td>158657439</td>\n",
       "      <td>0</td>\n",
       "      <td>0</td>\n",
       "      <td>0</td>\n",
       "      <td>0</td>\n",
       "      <td>0</td>\n",
       "      <td>...</td>\n",
       "      <td>0</td>\n",
       "      <td>0</td>\n",
       "      <td>0</td>\n",
       "      <td>0</td>\n",
       "      <td>0</td>\n",
       "      <td>0</td>\n",
       "      <td>1</td>\n",
       "      <td>110082</td>\n",
       "      <td>\\nDelhi High Court\\nDr. Shashi Tharoor vs Arna...</td>\n",
       "      <td>0.0</td>\n",
       "    </tr>\n",
       "    <tr>\n",
       "      <th>2.0</th>\n",
       "      <td>/scratch/kv942/Dejure/chattisgarh/2018/1936881...</td>\n",
       "      <td>/scratch/kv942/Dejure/chattisgarh_crime/193688...</td>\n",
       "      <td>chattisgarh</td>\n",
       "      <td>2018</td>\n",
       "      <td>193688153</td>\n",
       "      <td>1</td>\n",
       "      <td>0</td>\n",
       "      <td>0</td>\n",
       "      <td>0</td>\n",
       "      <td>0</td>\n",
       "      <td>...</td>\n",
       "      <td>1</td>\n",
       "      <td>0</td>\n",
       "      <td>0</td>\n",
       "      <td>0</td>\n",
       "      <td>0</td>\n",
       "      <td>0</td>\n",
       "      <td>1</td>\n",
       "      <td>62598</td>\n",
       "      <td>\\nChattisgarh High Court\\nAshok Kumar Mishra v...</td>\n",
       "      <td>0.0</td>\n",
       "    </tr>\n",
       "    <tr>\n",
       "      <th>3.0</th>\n",
       "      <td>/scratch/kv942/Dejure/delhi/2015/159727399.txt</td>\n",
       "      <td>/scratch/kv942/Dejure/delhi_1_crime/159727399.txt</td>\n",
       "      <td>delhi</td>\n",
       "      <td>2015</td>\n",
       "      <td>159727399</td>\n",
       "      <td>1</td>\n",
       "      <td>0</td>\n",
       "      <td>0</td>\n",
       "      <td>1</td>\n",
       "      <td>0</td>\n",
       "      <td>...</td>\n",
       "      <td>0</td>\n",
       "      <td>0</td>\n",
       "      <td>0</td>\n",
       "      <td>0</td>\n",
       "      <td>0</td>\n",
       "      <td>0</td>\n",
       "      <td>1</td>\n",
       "      <td>86906</td>\n",
       "      <td>\\nDelhi High Court\\nSwati vs Arvind Mudgal on ...</td>\n",
       "      <td>0.0</td>\n",
       "    </tr>\n",
       "    <tr>\n",
       "      <th>4.0</th>\n",
       "      <td>/scratch/kv942/Dejure/delhi/2017/190824458.txt</td>\n",
       "      <td>/scratch/kv942/Dejure/delhi_1_crime/190824458.txt</td>\n",
       "      <td>delhi</td>\n",
       "      <td>2017</td>\n",
       "      <td>190824458</td>\n",
       "      <td>1</td>\n",
       "      <td>0</td>\n",
       "      <td>0</td>\n",
       "      <td>0</td>\n",
       "      <td>0</td>\n",
       "      <td>...</td>\n",
       "      <td>0</td>\n",
       "      <td>0</td>\n",
       "      <td>0</td>\n",
       "      <td>0</td>\n",
       "      <td>1</td>\n",
       "      <td>0</td>\n",
       "      <td>1</td>\n",
       "      <td>64236</td>\n",
       "      <td>\\nDelhi High Court\\nUmesh Kumar vs State Nct O...</td>\n",
       "      <td>0.0</td>\n",
       "    </tr>\n",
       "  </tbody>\n",
       "</table>\n",
       "<p>5 rows × 43 columns</p>\n",
       "</div>"
      ],
      "text/plain": [
       "                                         original_path  \\\n",
       "0.0     /scratch/kv942/Dejure/delhi/2010/172888257.txt   \n",
       "1.0     /scratch/kv942/Dejure/delhi/2017/158657439.txt   \n",
       "2.0  /scratch/kv942/Dejure/chattisgarh/2018/1936881...   \n",
       "3.0     /scratch/kv942/Dejure/delhi/2015/159727399.txt   \n",
       "4.0     /scratch/kv942/Dejure/delhi/2017/190824458.txt   \n",
       "\n",
       "                                              act_path  Juridiction  year  \\\n",
       "0.0  /scratch/kv942/Dejure/delhi_1_crime/172888257.txt        delhi  2010   \n",
       "1.0  /scratch/kv942/Dejure/delhi_1_crime/158657439.txt        delhi  2017   \n",
       "2.0  /scratch/kv942/Dejure/chattisgarh_crime/193688...  chattisgarh  2018   \n",
       "3.0  /scratch/kv942/Dejure/delhi_1_crime/159727399.txt        delhi  2015   \n",
       "4.0  /scratch/kv942/Dejure/delhi_1_crime/190824458.txt        delhi  2017   \n",
       "\n",
       "     file_name  Sections_302  Sections_304  Sections_304B  Sections_315  \\\n",
       "0.0  172888257             0             0              0             0   \n",
       "1.0  158657439             0             0              0             0   \n",
       "2.0  193688153             1             0              0             0   \n",
       "3.0  159727399             1             0              0             1   \n",
       "4.0  190824458             1             0              0             0   \n",
       "\n",
       "     Sections_316  ...  Sections_397  Sections_398  Sections_435  \\\n",
       "0.0             0  ...             0             0             0   \n",
       "1.0             0  ...             0             0             0   \n",
       "2.0             0  ...             1             0             0   \n",
       "3.0             0  ...             0             0             0   \n",
       "4.0             0  ...             0             0             0   \n",
       "\n",
       "     Sections_436  Sections_437  Sections_438  flag     Len  \\\n",
       "0.0             0             0             0     1   61742   \n",
       "1.0             0             0             0     1  110082   \n",
       "2.0             0             0             0     1   62598   \n",
       "3.0             0             0             0     1   86906   \n",
       "4.0             0             1             0     1   64236   \n",
       "\n",
       "                                                  Text  lenient/harsh  \n",
       "0.0  \\nDelhi High Court\\nRakesh vs State on 28 May,...            0.0  \n",
       "1.0  \\nDelhi High Court\\nDr. Shashi Tharoor vs Arna...            0.0  \n",
       "2.0  \\nChattisgarh High Court\\nAshok Kumar Mishra v...            0.0  \n",
       "3.0  \\nDelhi High Court\\nSwati vs Arvind Mudgal on ...            0.0  \n",
       "4.0  \\nDelhi High Court\\nUmesh Kumar vs State Nct O...            0.0  \n",
       "\n",
       "[5 rows x 43 columns]"
      ]
     },
     "execution_count": 11,
     "metadata": {},
     "output_type": "execute_result"
    }
   ],
   "source": [
    "df2 = pd.concat([df,cases],axis=1)\n",
    "df2.head()"
   ]
  },
  {
   "cell_type": "code",
   "execution_count": 12,
   "metadata": {},
   "outputs": [],
   "source": [
    "df2.columns = list(df2.columns[:-1])+list([\"jud_flag\"])\n",
    "df2 = df2[df2.jud_flag.notna()]\n",
    "df2['jud_flag'] = df2['jud_flag'].astype('int')"
   ]
  },
  {
   "cell_type": "code",
   "execution_count": 13,
   "metadata": {},
   "outputs": [],
   "source": [
    "df2['Text'] = [' '.join(x.split()) for x in df2.Text]"
   ]
  },
  {
   "cell_type": "code",
   "execution_count": 18,
   "metadata": {},
   "outputs": [],
   "source": [
    "import nltk\n",
    "lst_stopwords = nltk.corpus.stopwords.words(\"english\")\n",
    "#lst_stopwords"
   ]
  },
  {
   "cell_type": "code",
   "execution_count": 20,
   "metadata": {},
   "outputs": [],
   "source": [
    "def utils_preprocess_text(text, flg_stemm=False, flg_lemm=True, lst_stopwords=None):\n",
    "    ## clean (convert to lowercase and remove punctuations and  characters and then strip)\n",
    "    text = re.sub(r'[^\\w\\s]', '', str(text).lower().strip())\n",
    "            \n",
    "    ## Tokenize (convert from string to list)\n",
    "    lst_text = text.split()\n",
    "    ## remove Stopwords\n",
    "    if lst_stopwords is not None:\n",
    "        lst_text = [word for word in lst_text if word not in \n",
    "                    lst_stopwords]\n",
    "                \n",
    "    ## Stemming (remove -ing, -ly, ...)\n",
    "    if flg_stemm == True:\n",
    "        ps = nltk.stem.porter.PorterStemmer()\n",
    "        lst_text = [ps.stem(word) for word in lst_text]\n",
    "                \n",
    "    ## Lemmatisation (convert the word into root word)\n",
    "    if flg_lemm == True:\n",
    "        lem = nltk.stem.wordnet.WordNetLemmatizer()\n",
    "        lst_text = [lem.lemmatize(word) for word in lst_text]\n",
    "            \n",
    "    ## back to string from list\n",
    "    text = \" \".join(lst_text)\n",
    "    return text"
   ]
  },
  {
   "cell_type": "code",
   "execution_count": 21,
   "metadata": {},
   "outputs": [],
   "source": [
    "# df2[\"text_clean\"] = df2[\"Text\"].apply(lambda x: \n",
    "#           utils_preprocess_text(x, flg_stemm=False, flg_lemm=True, \n",
    "#           lst_stopwords=lst_stopwords))\n",
    "# #df2.head()"
   ]
  },
  {
   "cell_type": "code",
   "execution_count": 14,
   "metadata": {},
   "outputs": [],
   "source": [
    "X_train, X_test, y_train, y_test = train_test_split(df2['Text'], df2['jud_flag'], test_size=0.2, random_state=0)\n",
    " "
   ]
  },
  {
   "cell_type": "code",
   "execution_count": 15,
   "metadata": {},
   "outputs": [
    {
     "data": {
      "text/plain": [
       "TfidfVectorizer(stop_words={'english'})"
      ]
     },
     "execution_count": 15,
     "metadata": {},
     "output_type": "execute_result"
    }
   ],
   "source": [
    "tfidf_vectorizer = TfidfVectorizer(stop_words={'english'})\n",
    "tfidf_vectorizer.fit(X_train)\n"
   ]
  },
  {
   "cell_type": "code",
   "execution_count": 34,
   "metadata": {},
   "outputs": [],
   "source": [
    "feature_array = np.array(tfidf_vectorizer.get_feature_names())\n",
    "tfidf_sorting = np.argsort(X_test_tfidf.toarray()).flatten()[::-1]\n",
    "\n",
    "n = 10\n",
    "top_n = feature_array[tfidf_sorting][:n]"
   ]
  },
  {
   "cell_type": "code",
   "execution_count": 35,
   "metadata": {},
   "outputs": [
    {
     "data": {
      "text/plain": [
       "array(['the', 'of', 'and', '651', 'baiju', '251', 'to', 'that', 'in',\n",
       "       'accused'], dtype='<U60')"
      ]
     },
     "execution_count": 35,
     "metadata": {},
     "output_type": "execute_result"
    }
   ],
   "source": [
    "top_n"
   ]
  },
  {
   "cell_type": "code",
   "execution_count": 16,
   "metadata": {},
   "outputs": [
    {
     "data": {
      "text/plain": [
       "LogisticRegression()"
      ]
     },
     "execution_count": 16,
     "metadata": {},
     "output_type": "execute_result"
    }
   ],
   "source": [
    "X_train_tfidf = tfidf_vectorizer.transform(X_train)\n",
    "X_test_tfidf = tfidf_vectorizer.transform(X_test)\n",
    "\n",
    "# Model\n",
    "model = LogisticRegression()\n",
    "model.fit(X_train_tfidf, y_train)"
   ]
  },
  {
   "cell_type": "code",
   "execution_count": 17,
   "metadata": {},
   "outputs": [
    {
     "name": "stdout",
     "output_type": "stream",
     "text": [
      "Area under the ROC curve on the test data = 0.6854\n",
      "Accuracy test data = 0.575\n"
     ]
    }
   ],
   "source": [
    "print(f'Area under the ROC curve on the test data = {round(metrics.roc_auc_score(y_test, model.predict_proba(X_test_tfidf)[:,1]), 4)}')\n",
    "print(f'Accuracy test data = {round(metrics.accuracy_score(y_test, model.predict(X_test_tfidf)), 4)}')\n"
   ]
  },
  {
   "cell_type": "code",
   "execution_count": 18,
   "metadata": {},
   "outputs": [
    {
     "data": {
      "text/plain": [
       "BernoulliNB()"
      ]
     },
     "execution_count": 18,
     "metadata": {},
     "output_type": "execute_result"
    }
   ],
   "source": [
    "model = BernoulliNB()\n",
    "model.fit(X_train_tfidf, y_train)"
   ]
  },
  {
   "cell_type": "code",
   "execution_count": 19,
   "metadata": {},
   "outputs": [
    {
     "name": "stdout",
     "output_type": "stream",
     "text": [
      "Area under the ROC curve on the test data = 0.6834\n",
      "Accuracy test data = 0.6\n"
     ]
    }
   ],
   "source": [
    "print(f'Area under the ROC curve on the test data = {round(metrics.roc_auc_score(y_test, model.predict_proba(X_test_tfidf)[:,1]), 4)}')\n",
    "print(f'Accuracy test data = {round(metrics.accuracy_score(y_test, model.predict(X_test_tfidf)), 4)}')\n"
   ]
  },
  {
   "cell_type": "code",
   "execution_count": 20,
   "metadata": {},
   "outputs": [
    {
     "data": {
      "text/plain": [
       "RandomForestClassifier(random_state=0)"
      ]
     },
     "execution_count": 20,
     "metadata": {},
     "output_type": "execute_result"
    }
   ],
   "source": [
    "from sklearn.ensemble import RandomForestClassifier\n",
    "model = RandomForestClassifier(n_estimators=100, random_state=0)  \n",
    "model.fit(X_train_tfidf, y_train)"
   ]
  },
  {
   "cell_type": "code",
   "execution_count": 21,
   "metadata": {},
   "outputs": [
    {
     "name": "stdout",
     "output_type": "stream",
     "text": [
      "Area under the ROC curve on the test data = 0.6768\n",
      "Accuracy test data = 0.6167\n"
     ]
    }
   ],
   "source": [
    "print(f'Area under the ROC curve on the test data = {round(metrics.roc_auc_score(y_test, model.predict_proba(X_test_tfidf)[:,1]), 4)}')\n",
    "print(f'Accuracy test data = {round(metrics.accuracy_score(y_test, model.predict(X_test_tfidf)), 4)}')\n"
   ]
  },
  {
   "cell_type": "code",
   "execution_count": 23,
   "metadata": {},
   "outputs": [
    {
     "name": "stdout",
     "output_type": "stream",
     "text": [
      "[10:25:19] WARNING: ../src/learner.cc:1095: Starting in XGBoost 1.3.0, the default evaluation metric used with the objective 'binary:logistic' was changed from 'error' to 'logloss'. Explicitly set eval_metric if you'd like to restore the old behavior.\n"
     ]
    },
    {
     "data": {
      "text/plain": [
       "XGBClassifier(base_score=0.5, booster='gbtree', colsample_bylevel=1,\n",
       "              colsample_bynode=1, colsample_bytree=1, gamma=0, gpu_id=-1,\n",
       "              importance_type='gain', interaction_constraints='',\n",
       "              learning_rate=0.22, max_delta_step=0, max_depth=25,\n",
       "              min_child_weight=30, missing=nan, monotone_constraints='()',\n",
       "              n_estimators=50, n_jobs=4, num_parallel_tree=1, random_state=50,\n",
       "              reg_alpha=0.1, reg_lambda=0.01, scale_pos_weight=1, seed=50,\n",
       "              subsample=1, tree_method='exact', validate_parameters=1,\n",
       "              verbosity=None)"
      ]
     },
     "execution_count": 23,
     "metadata": {},
     "output_type": "execute_result"
    }
   ],
   "source": [
    "import xgboost as xgb\n",
    "model = xgb.XGBClassifier(\n",
    "    learning_rate = 0.22,\n",
    "    n_estimators = 50,\n",
    "    reg_lambda = 0.01,\n",
    "    reg_alpha = 0.1,\n",
    "    #sub_sample = 0.8,\n",
    "    seed = 50,\n",
    "    objective = 'binary:logistic',\n",
    "    max_depth=25,\n",
    "    min_child_weight=30)\n",
    "model.fit(X_train_tfidf, y_train)"
   ]
  },
  {
   "cell_type": "code",
   "execution_count": 50,
   "metadata": {},
   "outputs": [],
   "source": [
    "preds = np.where(model.predict_proba(X_test_tfidf)[:,1] > 0.5, 1, 0)"
   ]
  },
  {
   "cell_type": "code",
   "execution_count": 38,
   "metadata": {},
   "outputs": [
    {
     "name": "stdout",
     "output_type": "stream",
     "text": [
      "Area under the ROC curve on the test data = 0.8051\n",
      "Accuracy test data = 0.7333\n",
      "F1 Score test data = 0.619\n"
     ]
    }
   ],
   "source": [
    "print(f'Area under the ROC curve on the test data = {round(metrics.roc_auc_score(y_test, model.predict_proba(X_test_tfidf)[:,1]), 4)}')\n",
    "print(f'Accuracy test data = {round(metrics.accuracy_score(y_test, model.predict(X_test_tfidf)), 4)}')\n",
    "print(f'F1 Score test data = {round(metrics.f1_score(y_test, model.predict(X_test_tfidf)), 4)}')\n"
   ]
  },
  {
   "cell_type": "code",
   "execution_count": 53,
   "metadata": {},
   "outputs": [
    {
     "name": "stdout",
     "output_type": "stream",
     "text": [
      "              precision    recall  f1-score   support\n",
      "\n",
      "           0       0.71      0.90      0.79        69\n",
      "           1       0.79      0.51      0.62        51\n",
      "\n",
      "    accuracy                           0.73       120\n",
      "   macro avg       0.75      0.70      0.71       120\n",
      "weighted avg       0.74      0.73      0.72       120\n",
      "\n"
     ]
    }
   ],
   "source": [
    "print(metrics.classification_report(y_test,preds))"
   ]
  },
  {
   "cell_type": "code",
   "execution_count": 51,
   "metadata": {},
   "outputs": [
    {
     "data": {
      "text/plain": [
       "0.6190476190476191"
      ]
     },
     "execution_count": 51,
     "metadata": {},
     "output_type": "execute_result"
    }
   ],
   "source": [
    "metrics.f1_score(y_test,preds)"
   ]
  },
  {
   "cell_type": "code",
   "execution_count": 37,
   "metadata": {},
   "outputs": [],
   "source": [
    "import pickle\n",
    "pickle.dump(tfidf_vectorizer, open(\"tfidf1.pkl\", \"wb\"))"
   ]
  },
  {
   "cell_type": "code",
   "execution_count": 41,
   "metadata": {},
   "outputs": [],
   "source": [
    "import matplotlib.pyplot as plt"
   ]
  },
  {
   "cell_type": "code",
   "execution_count": 42,
   "metadata": {},
   "outputs": [
    {
     "data": {
      "image/png": "[encoded data removed]",
      "text/plain": [
       "<Figure size 432x288 with 1 Axes>"
      ]
     },
     "metadata": {
      "needs_background": "light"
     },
     "output_type": "display_data"
    }
   ],
   "source": [
    "fpr, tpr, _ = metrics.roc_curve(y_test,  model.predict_proba(X_test_tfidf)[:,1])\n",
    "auc = metrics.roc_auc_score(y_test, model.predict_proba(X_test_tfidf)[:,1])\n",
    "plt.plot(fpr,tpr,label=\"data 1, auc=\"+str(auc))\n",
    "plt.legend(loc=4)\n",
    "plt.show()\n"
   ]
  },
  {
   "cell_type": "markdown",
   "metadata": {},
   "source": [
    "# Gensim Models"
   ]
  },
  {
   "cell_type": "code",
   "execution_count": 18,
   "metadata": {},
   "outputs": [],
   "source": [
    "from gensim.models import Word2Vec\n",
    "from gensim.parsing.preprocessing import remove_stopwords\n",
    "\n",
    "from gensim.parsing.porter import PorterStemmer\n",
    "porter_stemmer = PorterStemmer()\n",
    "from gensim import corpora, models, similarities\n",
    "import gensim"
   ]
  },
  {
   "cell_type": "code",
   "execution_count": 19,
   "metadata": {
    "scrolled": false
   },
   "outputs": [
    {
     "data": {
      "text/html": [
       "<div>\n",
       "<style scoped>\n",
       "    .dataframe tbody tr th:only-of-type {\n",
       "        vertical-align: middle;\n",
       "    }\n",
       "\n",
       "    .dataframe tbody tr th {\n",
       "        vertical-align: top;\n",
       "    }\n",
       "\n",
       "    .dataframe thead th {\n",
       "        text-align: right;\n",
       "    }\n",
       "</style>\n",
       "<table border=\"1\" class=\"dataframe\">\n",
       "  <thead>\n",
       "    <tr style=\"text-align: right;\">\n",
       "      <th></th>\n",
       "      <th>original_path</th>\n",
       "      <th>act_path</th>\n",
       "      <th>Juridiction</th>\n",
       "      <th>year</th>\n",
       "      <th>file_name</th>\n",
       "      <th>Sections_302</th>\n",
       "      <th>Sections_304</th>\n",
       "      <th>Sections_304B</th>\n",
       "      <th>Sections_315</th>\n",
       "      <th>Sections_316</th>\n",
       "      <th>...</th>\n",
       "      <th>Sections_397</th>\n",
       "      <th>Sections_398</th>\n",
       "      <th>Sections_435</th>\n",
       "      <th>Sections_436</th>\n",
       "      <th>Sections_437</th>\n",
       "      <th>Sections_438</th>\n",
       "      <th>flag</th>\n",
       "      <th>Len</th>\n",
       "      <th>Text</th>\n",
       "      <th>jud_flag</th>\n",
       "    </tr>\n",
       "  </thead>\n",
       "  <tbody>\n",
       "    <tr>\n",
       "      <th>0.0</th>\n",
       "      <td>/scratch/kv942/Dejure/delhi/2010/172888257.txt</td>\n",
       "      <td>/scratch/kv942/Dejure/delhi_1_crime/172888257.txt</td>\n",
       "      <td>delhi</td>\n",
       "      <td>2010</td>\n",
       "      <td>172888257</td>\n",
       "      <td>0</td>\n",
       "      <td>0</td>\n",
       "      <td>0</td>\n",
       "      <td>0</td>\n",
       "      <td>0</td>\n",
       "      <td>...</td>\n",
       "      <td>0</td>\n",
       "      <td>0</td>\n",
       "      <td>0</td>\n",
       "      <td>0</td>\n",
       "      <td>0</td>\n",
       "      <td>0</td>\n",
       "      <td>1</td>\n",
       "      <td>61742</td>\n",
       "      <td>Delhi High Court Rakesh vs State on 28 May, 20...</td>\n",
       "      <td>0</td>\n",
       "    </tr>\n",
       "    <tr>\n",
       "      <th>1.0</th>\n",
       "      <td>/scratch/kv942/Dejure/delhi/2017/158657439.txt</td>\n",
       "      <td>/scratch/kv942/Dejure/delhi_1_crime/158657439.txt</td>\n",
       "      <td>delhi</td>\n",
       "      <td>2017</td>\n",
       "      <td>158657439</td>\n",
       "      <td>0</td>\n",
       "      <td>0</td>\n",
       "      <td>0</td>\n",
       "      <td>0</td>\n",
       "      <td>0</td>\n",
       "      <td>...</td>\n",
       "      <td>0</td>\n",
       "      <td>0</td>\n",
       "      <td>0</td>\n",
       "      <td>0</td>\n",
       "      <td>0</td>\n",
       "      <td>0</td>\n",
       "      <td>1</td>\n",
       "      <td>110082</td>\n",
       "      <td>Delhi High Court Dr. Shashi Tharoor vs Arnab G...</td>\n",
       "      <td>0</td>\n",
       "    </tr>\n",
       "    <tr>\n",
       "      <th>2.0</th>\n",
       "      <td>/scratch/kv942/Dejure/chattisgarh/2018/1936881...</td>\n",
       "      <td>/scratch/kv942/Dejure/chattisgarh_crime/193688...</td>\n",
       "      <td>chattisgarh</td>\n",
       "      <td>2018</td>\n",
       "      <td>193688153</td>\n",
       "      <td>1</td>\n",
       "      <td>0</td>\n",
       "      <td>0</td>\n",
       "      <td>0</td>\n",
       "      <td>0</td>\n",
       "      <td>...</td>\n",
       "      <td>1</td>\n",
       "      <td>0</td>\n",
       "      <td>0</td>\n",
       "      <td>0</td>\n",
       "      <td>0</td>\n",
       "      <td>0</td>\n",
       "      <td>1</td>\n",
       "      <td>62598</td>\n",
       "      <td>Chattisgarh High Court Ashok Kumar Mishra vs S...</td>\n",
       "      <td>0</td>\n",
       "    </tr>\n",
       "    <tr>\n",
       "      <th>3.0</th>\n",
       "      <td>/scratch/kv942/Dejure/delhi/2015/159727399.txt</td>\n",
       "      <td>/scratch/kv942/Dejure/delhi_1_crime/159727399.txt</td>\n",
       "      <td>delhi</td>\n",
       "      <td>2015</td>\n",
       "      <td>159727399</td>\n",
       "      <td>1</td>\n",
       "      <td>0</td>\n",
       "      <td>0</td>\n",
       "      <td>1</td>\n",
       "      <td>0</td>\n",
       "      <td>...</td>\n",
       "      <td>0</td>\n",
       "      <td>0</td>\n",
       "      <td>0</td>\n",
       "      <td>0</td>\n",
       "      <td>0</td>\n",
       "      <td>0</td>\n",
       "      <td>1</td>\n",
       "      <td>86906</td>\n",
       "      <td>Delhi High Court Swati vs Arvind Mudgal on 29 ...</td>\n",
       "      <td>0</td>\n",
       "    </tr>\n",
       "    <tr>\n",
       "      <th>4.0</th>\n",
       "      <td>/scratch/kv942/Dejure/delhi/2017/190824458.txt</td>\n",
       "      <td>/scratch/kv942/Dejure/delhi_1_crime/190824458.txt</td>\n",
       "      <td>delhi</td>\n",
       "      <td>2017</td>\n",
       "      <td>190824458</td>\n",
       "      <td>1</td>\n",
       "      <td>0</td>\n",
       "      <td>0</td>\n",
       "      <td>0</td>\n",
       "      <td>0</td>\n",
       "      <td>...</td>\n",
       "      <td>0</td>\n",
       "      <td>0</td>\n",
       "      <td>0</td>\n",
       "      <td>0</td>\n",
       "      <td>1</td>\n",
       "      <td>0</td>\n",
       "      <td>1</td>\n",
       "      <td>64236</td>\n",
       "      <td>Delhi High Court Umesh Kumar vs State Nct Of D...</td>\n",
       "      <td>0</td>\n",
       "    </tr>\n",
       "  </tbody>\n",
       "</table>\n",
       "<p>5 rows × 43 columns</p>\n",
       "</div>"
      ],
      "text/plain": [
       "                                         original_path  \\\n",
       "0.0     /scratch/kv942/Dejure/delhi/2010/172888257.txt   \n",
       "1.0     /scratch/kv942/Dejure/delhi/2017/158657439.txt   \n",
       "2.0  /scratch/kv942/Dejure/chattisgarh/2018/1936881...   \n",
       "3.0     /scratch/kv942/Dejure/delhi/2015/159727399.txt   \n",
       "4.0     /scratch/kv942/Dejure/delhi/2017/190824458.txt   \n",
       "\n",
       "                                              act_path  Juridiction  year  \\\n",
       "0.0  /scratch/kv942/Dejure/delhi_1_crime/172888257.txt        delhi  2010   \n",
       "1.0  /scratch/kv942/Dejure/delhi_1_crime/158657439.txt        delhi  2017   \n",
       "2.0  /scratch/kv942/Dejure/chattisgarh_crime/193688...  chattisgarh  2018   \n",
       "3.0  /scratch/kv942/Dejure/delhi_1_crime/159727399.txt        delhi  2015   \n",
       "4.0  /scratch/kv942/Dejure/delhi_1_crime/190824458.txt        delhi  2017   \n",
       "\n",
       "     file_name  Sections_302  Sections_304  Sections_304B  Sections_315  \\\n",
       "0.0  172888257             0             0              0             0   \n",
       "1.0  158657439             0             0              0             0   \n",
       "2.0  193688153             1             0              0             0   \n",
       "3.0  159727399             1             0              0             1   \n",
       "4.0  190824458             1             0              0             0   \n",
       "\n",
       "     Sections_316  ...  Sections_397  Sections_398  Sections_435  \\\n",
       "0.0             0  ...             0             0             0   \n",
       "1.0             0  ...             0             0             0   \n",
       "2.0             0  ...             1             0             0   \n",
       "3.0             0  ...             0             0             0   \n",
       "4.0             0  ...             0             0             0   \n",
       "\n",
       "     Sections_436  Sections_437  Sections_438  flag     Len  \\\n",
       "0.0             0             0             0     1   61742   \n",
       "1.0             0             0             0     1  110082   \n",
       "2.0             0             0             0     1   62598   \n",
       "3.0             0             0             0     1   86906   \n",
       "4.0             0             1             0     1   64236   \n",
       "\n",
       "                                                  Text  jud_flag  \n",
       "0.0  Delhi High Court Rakesh vs State on 28 May, 20...         0  \n",
       "1.0  Delhi High Court Dr. Shashi Tharoor vs Arnab G...         0  \n",
       "2.0  Chattisgarh High Court Ashok Kumar Mishra vs S...         0  \n",
       "3.0  Delhi High Court Swati vs Arvind Mudgal on 29 ...         0  \n",
       "4.0  Delhi High Court Umesh Kumar vs State Nct Of D...         0  \n",
       "\n",
       "[5 rows x 43 columns]"
      ]
     },
     "execution_count": 19,
     "metadata": {},
     "output_type": "execute_result"
    }
   ],
   "source": [
    "df2.head()"
   ]
  },
  {
   "cell_type": "code",
   "execution_count": 28,
   "metadata": {},
   "outputs": [],
   "source": [
    "def read_corpus(texts, tokens_only=False):\n",
    "    \n",
    "    for i, line in enumerate(texts):\n",
    "        tokens = gensim.utils.simple_preprocess(line)\n",
    "        if tokens_only:\n",
    "            yield tokens\n",
    "        else:\n",
    "            # For training data, add tags\n",
    "            yield gensim.models.doc2vec.TaggedDocument(tokens, [i])\n",
    "\n",
    "train_corpus = list(read_corpus(X_train))\n",
    "test_corpus = list(read_corpus(X_test, tokens_only=True))\n"
   ]
  },
  {
   "cell_type": "code",
   "execution_count": 24,
   "metadata": {},
   "outputs": [],
   "source": [
    "corpus = list(train_corpus)"
   ]
  },
  {
   "cell_type": "code",
   "execution_count": 38,
   "metadata": {},
   "outputs": [],
   "source": [
    "model = gensim.models.doc2vec.Doc2Vec(vector_size=50, min_count=2, epochs=60)"
   ]
  },
  {
   "cell_type": "code",
   "execution_count": 39,
   "metadata": {},
   "outputs": [],
   "source": [
    "model.build_vocab(corpus)"
   ]
  },
  {
   "cell_type": "code",
   "execution_count": 40,
   "metadata": {},
   "outputs": [
    {
     "name": "stdout",
     "output_type": "stream",
     "text": [
      "Word 'penalty' appeared 685 times in the training corpus.\n"
     ]
    }
   ],
   "source": [
    "print(f\"Word 'penalty' appeared {model.wv.get_vecattr('penalty', 'count')} times in the training corpus.\")"
   ]
  },
  {
   "cell_type": "code",
   "execution_count": 41,
   "metadata": {},
   "outputs": [],
   "source": [
    "model.train(corpus, total_examples=model.corpus_count, epochs=model.epochs)"
   ]
  },
  {
   "cell_type": "code",
   "execution_count": 28,
   "metadata": {},
   "outputs": [],
   "source": [
    "from gensim.test.utils import get_tmpfile\n",
    "\n",
    "fname = get_tmpfile(\"/scratch/kv942/Dejure/my_doc2vec_model\")"
   ]
  },
  {
   "cell_type": "code",
   "execution_count": 29,
   "metadata": {},
   "outputs": [],
   "source": [
    "model.save(fname)"
   ]
  },
  {
   "cell_type": "code",
   "execution_count": 23,
   "metadata": {},
   "outputs": [],
   "source": [
    "model = gensim.models.doc2vec.Doc2Vec.load('/scratch/kv942/Dejure/my_doc2vec_model')"
   ]
  },
  {
   "cell_type": "code",
   "execution_count": 28,
   "metadata": {},
   "outputs": [],
   "source": [
    "ranks = []\n",
    "second_ranks = []\n",
    "for doc_id in range(len(train_corpus[:5])):\n",
    "    inferred_vector = model.infer_vector(train_corpus[doc_id].words)\n",
    "    sims = model.dv.most_similar([inferred_vector], topn=len(model.dv))\n",
    "    rank = [docid for docid, sim in sims].index(doc_id)\n",
    "    ranks.append(rank)\n",
    "\n",
    "    second_ranks.append(sims[1])"
   ]
  },
  {
   "cell_type": "code",
   "execution_count": 29,
   "metadata": {
    "scrolled": true
   },
   "outputs": [
    {
     "name": "stdout",
     "output_type": "stream",
     "text": [
      "Counter({1023: 1, 881: 1, 1448: 1, 4225: 1, 320: 1})\n"
     ]
    }
   ],
   "source": [
    "import collections\n",
    "\n",
    "counter = collections.Counter(ranks)\n",
    "print(counter)"
   ]
  },
  {
   "cell_type": "code",
   "execution_count": 22,
   "metadata": {},
   "outputs": [
    {
     "data": {
      "text/plain": [
       "'Delhi High Court Rakesh vs State on 28 May, 2010Author: Pradeep Nandrajog * IN THE HIGH COURT OF DELHI AT NEW DELHI % Judgment Reserved On: May 24, 2010 Judgment Delivered On: May 28, 2010 + CRL.APPEAL No.587/2008 RAKESH ..... Appellant Through: Mr.Sudershan Rajan, Advocate versus STATE ..... Respondent Through: Mr.M.N.Dudeja, Advocate CRL.APPEAL No.588/2008 RAJNEESH ..... Appellant Through: Mr.K.K.Sud, Senior Advocate with Mr.Kunal Malhotra and Mr.Ashish Das, Advocates versus STATE ..... Respondent Through: Mr.M.N.Dudeja, Advocate CRL.APPEAL No.1027/2008 LAL MOHAMMAD ..... Appellant Through: Mr.Bhupesh Narula, Advocate versus STATE ..... Respondent Through: Mr.M.N.Dudeja, Advocate CORAM: HON\\'BLE MR. JUSTICE PRADEEP NANDRAJOG HON\\'BLE MR. JUSTICE SURESH KAIT 1. Whether the Reporters of local papers may be allowed to see the judgment? 2. To be referred to the Reporter or not? 3. Whether the judgment should be reported in the Digest? PRADEEP NANDRAJOG, J. Crl.A.Nos.587/2008, 588/2008 & 1027/2008 Page 1 of 33 1. There is some confusion, but it hardly matters, whereas Vijay Bhandari PW-5 (father of deceased Vikas Bhandari) deposed that when he could not locate his son Vikas till it became dark on 13.11.2000 he lodged a missing person‟s complaint by ringing up the police control room; HC Veer Singh PW-6 deposed that on 14.11.2000 Vijay Bhandari came to PS Anand Vihar at 10:30 AM and got recorded his statement which was straight away reduced into a First Information Report Ex.PW-5/S. The fact of the matter remains that Vikas Bhandari left his house at around 4:30 PM for taking tuitions and never returned home. On 15.11.2000 his dead body was found in District Ghaziabad UP. 2. It is the case of the prosecution that the appellants and their co-conspirator Romil Sharma, who has turned approver and has earned a pardon, conspired to kidnap Vikas Bhandari and extract ransom from his father to release Vikas, who was known to appellant Rajneesh since Rajneesh had in the past taken private tuitions for Vikas. In furtherance of their conspiracy the four kidnapped Vikas from outside Sai Baba Mandir, Savita Vihar and took him to A-157, Sector-I, Vaishali, Ghaziabad which was taken on rent by Rajneesh. The plan went haywire since Vikas, who was drugged after he was kidnapped could not be properly re- sedated and lest his cries of distress summon people in the neighbourhood for rescue, the appellants and Romil Sharma strangulated to death their victim i.e. Vikas. To dispose of the body they borrowed a Maruti Car No.DVD 6717 from Vinesh Kumar PW-2 and after wrapping the body in a holdole (bisterband) threw the body at an isolated spot in Crl.A.Nos.587/2008, 588/2008 & 1027/2008 Page 2 of 33 front of Pahar Pur Factory, Maharajpur Industrial Area within jurisdiction of PS Link Road Ghaziabad. 3. Thus, charge framed against the appellants and co-accused Romil Sharma, who by the date when the charge was framed i.e. on 28.5.2001 had not turned an approver, was of entering into a conspiracy to kidnap for ransom Vikas Bhandari; to murder Vikas Bhandari and destroy/conceal evidence of the crime i.e. the offences punishable under Section 120B/364/302/201 IPC. 4. No demand for ransom being made appears to be the reason why charge framed was for the offence punishable under Section 364 IPC and not Section 364-A IPC. 5. Since much turns on the credibility of how the investigating officer claims to have cracked the offence, it would be useful to have a look as to how the investigating officer claims to have investigated the offence and achieved a break through. 6. Three police officers have investigated the crime. Firstly, SI Prakash Singh PW-12 investigated the crime till 15.11.2000 when dead body of Vikas was found. From 15.11.2000 till 18.11.2000 Insp.Sarabjit Singh PW-15 conducted the investigation and taking over the investigation on 19.11.2000 till charge-sheet was filed, Insp.Ramesh Kumar PW-16 was incharge of the investigation. 7. The FIR was registered at around 10:30 AM on 14.11.2000 and as deposed to by SI Prakash Singh PW-12 the investigation was entrusted to him and since he was told that Vikas had gone to House No.A-98, Yojna Vihar for taking tuitions he went there and met Sudha Bhatnagar who used to teach Sanskrit to Vikas. She told him that on 13.11.2000 Crl.A.Nos.587/2008, 588/2008 & 1027/2008 Page 3 of 33 Vikas had left at 5:30 PM for taking tuition in English and Science (should read only Science since father of Vikas has clearly stated that his son used to take tuition in Sanskrit and Science. He has not deposed that his son used to take tuition in English) at A-41, Yojna Vihar, at which house he found nobody. He along with Const.Pramod searched for Vikas and could not locate him. He informed the PCR giving particulars of Vikas and at 4:30 PM, Vijay Bhandari, father of Vikas came to the police station with Ashwani Kumar PW-3 who told him that on 13.11.2000 at about 5:45 PM he saw Vikas on a two-wheeler with his tutor Rajneesh near Sai Baba Temple, Savita Vihar and that Romil Sharma as also Lal Mohd. along with another person were on a motorcycle and all went away on the respective vehicles. Ashwani Kumar‟s statement under Section 161 Cr.P.C. finds a place in the police record as also the charge-sheet filed. It bears the date 14.11.2000 and is Ex.PW-3/DA. 8. This became the lead for the investigation to proceed. Before SI Prakash Singh could lay his hands on the appellants or Romil Sharma, as deposed to by SI Anil Pratap PW-13 who was posted as a Sub-Inspector at PS Link Road, one Rajender Yadav gave information at the police station that he had seen the dead body of a person in front of Pahar Pur Factory which was noted vide GD No.22. He took along with him Const.Laxman Swaroop and Const.Siyaram and recovered the dead body of a male wrapped inside a bisterband. He drew up the Panchnama Ex.PW-13/A. Completing the formalities and filling up the inquest papers he sent the body to the mortuary and at 7:00 PM Vijay Bhandari and SI Prakash Singh who had learnt about a dead Crl.A.Nos.587/2008, 588/2008 & 1027/2008 Page 4 of 33 body being recovered came to the police station. The two were taken to the mortuary where Vijay Bhandari identified the dead body as that of his son. Relevant would it be to note that the clothes and the shoes were on the dead body which were seized vide memo Ex.PW-11/A by SI Anil Pratap. 9. The body being identified, post-mortem was conducted on 16.11.2000 and as per post-mortem report Ex.PW-14/A, ligature marks were detected on the neck. Multiple contusions on the chest, back and shoulders was noted. Cause of death opined was asphyxia due to strangulation. Dr.Anil Kumar PW-14, the author of the report duly proved the same. 10. The appellants and Romil Sharma were to be apprehended since Ashwani Kumar PW-3 had disclosed their likely involvement. 11. The prosecution claims that on 18.11.2000 appellant Rajneesh and Romil Sharma were spotted at Gate No.1, Yamuna Sports Complex, a place which they ostensibly used to visit for recreation. As recorded in the arrest memos Ex.PW-16/B and Ex.PW-16/A pertaining to Rajneesh and Romil Sharma respectively they were arrested together on 18.11.2000 (time of arrest not recorded but claimed to be around 1:30 PM as deposed to by Insp.Sarabjit Singh PW-15 as also Vijay Bhandari PW-5). Both of them made disclosure statements; that of Rajneesh being Ex.PW- 9/A and that of Romil Sharma being Ex.PW-1/D. Not only did the two confess to the crime but disclosed that they had with them two more accomplices; namely, Lal Mohd. and Rakesh. The two disclosed that they had taken Vikas to House No.A-157, Sector-I, Vaishali, Ghaziabad, taken on rent by Rajneesh where they firstly gave him tranquilizer tablets Crl.A.Nos.587/2008, 588/2008 & 1027/2008 Page 5 of 33 and since he regained consciousness they injected compose injection of diazepam. Fearing that Vikas may yell and attract attention of persons in the neighbourhood they strangulated him to death and borrowed a motor vehicle from Vinesh PW-2 and threw the dead body at the place wherefrom it was recovered by the police at Ghaziabad. Both of them volunteered to take the investigating officer to the house in question and get the notebooks, chappal, and spectacles of Vikas recovered from the house. 12. The pointing out memo Ex.PW-1/E which bears the signatures of Romil Sharma records that Romil Sharma pointed out House No.A-157, Sector-I, Vaishali and told that the belongings of Vikas were inside the house. 13. As claimed by Insp.Sarabjit Singh, on making entry inside the house, appellant Rakesh was found and was immediately arrested as per arrest memo Ex.PW-16/B. (We note that two memos have been exhibited as Ex.PW-16/B, being the arrest memo of Rakesh as well as that of Rajneesh). 14. Seven recovery memos Ex.PW-5/G, Ex.PW-5/D, Ex.PW-5/J, Ex.PW-5/F, Ex.PW-5/H, Ex.PW-5/E and Ex.PW-5/K stand drawn up, each dated 18.11.2000 and recording the respective exhibit recovered from inside the house. For facility of reference it be noted as under:- Memo No. Person attributed to. Exhibit recovered. Ex.PW-5/G Attributed to Rajneesh Pen Ex.P-6 Ex.PW-5/D Attributed to Rakesh Spectacles Ex.P-1 Ex.PW-5/J Attributed to Rajneesh Chakla Ex.P-7, Belan Ex.P-8 Ex.PW-5/F Attributed to Rajneesh Black coloured rubber slippers Ex.P-2 Crl.A.Nos.587/2008, 588/2008 & 1027/2008 Page 6 of 33 Ex.PW-5/H Attributed to Rajneesh Syringe Ex.P-9, Tablet Wrapper Ex.P-10 (Diazepm Tablets), Injection Vial Ex.P-11 (Diazepm Injection) Ex.PW-5/E Attributed to Rajneesh Book (Social Science) Ex.P-3, Copy (Sanskrit) Ex.P-4 and Copy (English) Ex.P-5 Ex.PW-5/K Attributed to Rajneesh Mattress Ex.P-12 15. It may be noted that whereas other memos record as to at whose instance and pointing out the exhibits were recovered, the memo Ex.PW-5/E does not record as to at whose instance Ex.P-3, Ex.P-4 and Ex.P-5 were recovered, but bears the signatures of Rajneesh. Similarly is the position with respect to the memo Ex.PW-5/J wherein the recovery of the chakla Ex.P-7 and belan Ex.P-8 have been recorded and the memo Ex.PW-5/F which records the recovery of the pair of chappals Ex.P-2. 16. Relevant would it be to further note that Vijay Bhandari is a witness to all the recoveries. SI Shailender Tomar and Insp.R.K.Shukla are the other two witnesses to the recoveries. 17. As claimed and deposed to by Insp.Sarabjit Singh when he and the other police officers were in the house, Lal Mohd. walked in and was immediately arrested. 18. Appellant Rakesh and appellant Lal Mohd. made confessional statements. No recoveries were made attributable to Lal Mohd. As noted above the recovery of the specs Ex.P-1 as entered in the memo Ex.PW-5/D is Crl.A.Nos.587/2008, 588/2008 & 1027/2008 Page 7 of 33 attributable to Rakesh, but it is not clear from the evidence whether the recovery preceded the disclosure statement of Rakesh or was subsequent thereto. 19. All the accused were produced before the concerned Magistrate in Delhi on 19.11.2000 when the investigating officer did not seek police remand of Rajneesh and prayed that the other three accused be remanded to police custody stating in the application that the Maruti Car in which the body of Vikas was thrown had to be recovered as also the place wherefrom the medicines and injections were purchased had to be located for which assistance of Romil Sharma was needed. Qua Lal Mohd. it was stated that the source of a rope used as ligature material as also to tie the bisterband in which the dead body was thrown was to be located for which Lal Mohd.‟s assistance was needed. Qua Rakesh it was stated that the source of some cloth used in the commission of the crime needed to be located with his assistance. We are left to wonder what cloth was contemplated, for indeed none has surfaced. 20. Relevant would it be to note that on 19.11.2000 a request was made by the accused to the learned Magistrate before whom all accused were produced for signing the case diary with the investigating officer, lest interpolations be made. Admittedly, the learned Metropolitan Magistrate signed the case diary and affixed his stamp thereon, but we find that the case diary preceding 17.11.2000 which was produced at the trial and in respect whereof statements recorded under Section 161 Cr.P.C. prior to 17.11.2000 do not bear the signatures of the learned Magistrate, much less his stamp. The memos prepared on 18.11.2000 and recording contained in the Crl.A.Nos.587/2008, 588/2008 & 1027/2008 Page 8 of 33 inner case diary bear the signatures as also the stamp of the learned Metropolitan Magistrate. 21. The charge-sheet was submitted. It is apparent that the prosecution was relying very heavily on the evidence of last seen and the recoveries effected on 18.11.2000. But the prosecution was fairly unsure of itself. Notwithstanding the fact that charges were pressed against all the accused on 28.5.2001, Romil Sharma filed an application before the learned Trial Judge praying that he desires to make a confession and turn approver. In the application Romil Sharma stated that his turning approver would strengthen the case of the prosecution which was predicated on very weak evidence. In a written reply filed by the learned Additional Public Prosecutor, the State supported the application of Romil Sharma. On 16.11.2001 the learned Additional Sessions Judge passed an order allowing the application granting pardon to Romil Sharma and proceedings remitted to the learned ACMM to complete necessary proceedings contemplated by Section 306 Cr.P.C. i.e. to record the confessional statement of Romil Sharma under Section 164 Cr.P.C. after recording the satisfaction of the learned ACMM as contemplated by law. 22. As recorded vide order dated 1.11.2001, Romil Sharma was produced before Sh.Sanjay Sharma MM Delhi who wrote:- \"I have explained to the accused that he is duty bound to make a true and complete disclosure of facts and all the circumstances within his knowledge related to the offence as alleged in the present case and that in case his statement is found to be false at any subsequent stage, he shall be made to face the trial of this case along with other co-accused and further that he may also be tried for the offence of perjury as per law. The Crl.A.Nos.587/2008, 588/2008 & 1027/2008 Page 9 of 33 accused has still stated that he is prepared to disclose the complete state of facts within his knowledge. I now hereby proceed to record the statement of the accused.\" 23. Thereafter, before recording the statement of Romil Sharma, the learned Metropolitan Magistrate completed the formality of complying with law as per the mandate of Section 164 Cr.P.C., to record a memorandum in the form of evidence of the statement being voluntary. It stands recorded as under:- \"Statement of the accused Romil Sharma, S/o Sh.Jitender Swaroop Sharma, R/o IIIrd A, 128, Rachna, Vaishali, Ghaziabad, UP (Presently lodged in Central Jail Tihar), aged about 23 years (On S.A.) Q.1 Are you making the statement voluntarily and without any compulsion, threat or fear? Ans. Yes. I am making the statement voluntarily. Q.2 Did you move the application U/S 306 Cr.P.C. under the influence of somebody or of your own sweat will? Ans. I moved the application of my own.\" 24. Thereafter the statement of Romil Sharma has been recorded and signed by the learned Metropolitan Magistrate and signatures of Romil Sharma have been obtained on each page. At the tail end is the certificate that the statement has been recorded in the open Court and it contains a true and complete account of the statement made by Romil Sharma before the learned Metropolitan Magistrate. 25. Needless to state Romil Sharma was dropped as an accused, having earned a pardon. Needless to state that the prosecution sought to prove the guilt of the appellants Crl.A.Nos.587/2008, 588/2008 & 1027/2008 Page 10 of 33 through the testimony of Romil Sharma who attained the status of being an eye witness; through the testimony of Ashwani Kumar PW-3 to prove that Vikas was seen in the company of the appellants and lastly the recoveries attributed against the appellants. It was obvious that the witnesses to the recoveries as entered in the various memos were cited as the witnesses of the prosecution. 26. Romil Sharma PW-1 disclosed the contours of the conspiracy, he stated that they picked up Vikas from outside Sai Baba Temple, Savita Vihar at about 5:45 PM on 13.11.2000 and as per their plan took him to the house A- 157, Sector-I, Vaishali taken on rent by Rajneesh. From the telephone Vikas was made to speak to his father. Thereafter, they crushed compose tablets and mixed it in a drink which was given to Vikas so that he became unconscious. As Vikas regained consciousness they injected him with a drug and as he resisted they all strangulated him to death. He i.e. Romil Sharma caught hold of the legs of Vikas. Lal Mohd. sat on the stomach of Vikas. Rakesh caught the arms and Rajneesh did the act of strangulation. After keeping the body in the bathroom they went to the shop of Vinesh, a friend of Rajneesh and borrowed his car. They threw the dead body at Maharajpur after wrapping the same in a dhoti and thereafter in a bisterband. He deposed to the various recoveries as per memos noted in para 14 above as effected in his presence. During cross- examination he admitted 22 improvements vis-à-vis his initial confessional-cum-disclosure statement Ex.PW-1/D being as under:- \"1. It is correct hat I had narrated the entire incident without any concealment to the IO. I had not disclosed to the police in my statement made Crl.A.Nos.587/2008, 588/2008 & 1027/2008 Page 11 of 33 after my arrest that in the last week of October 2000 accused Rajnish gave me an idea to kidnap a boy from rich family for ransom as he was in the need of money. 2. It is correct that I had not stated to the police in my disclosure statement Ex.PW-1/D that Rajnish accused told me that he was in need of money as he had paid Rs.63,000/- for a factory premises at Okhala and had to pay Rs.3,00,000/- more by 25.11.2000. 3. It is correct that I had not stated in my disclosure statement Ex.PW-1/D that accused Rajnish told me that his first target was Rahul Chaudhary, resident of Yojna Vihar bye then he choose Vikas Bhandari as he expected more money from his as ransom. 4. It is correct that I had not stated in my disclosure statement Ex.PW-1/D that on or before 10.11.2000, accused Rajnish took me alongwith Lal Mohd. And Anul Haq to the house of Vikas Bhandari at Yojna Vihar and pointed out the house where Vikas Bhandari was also standing and got identified him. 5. It is correct that I did not disclose in my statement Ex.PW-1/D that we all planned that on 13.11.2000, at around 5/5.15 P.M. I, Lal Mohd. And Anul Haq would bring Vikas Bhandari on my scooter. 6. It is correct that I had not disclosed in my statement Ex.PW-1/D that Rajnish talked with Vikas Bhandari fro about 1 and 1½ minute at Sai Baba Mandir and then signalled us to follow him. 7. It is correct that I had not stated in my statement Ex.PW-1/D that in the kitchen some compose tablets and injections had already been kept by Rajnish, for this purpose. 8. It is correct that I had not stated in my statement Ex.PW-1/D that Lal Mohd. took the glass of the said drink and handed over that to Crl.A.Nos.587/2008, 588/2008 & 1027/2008 Page 12 of 33 Rajnish, to gave it to Vikas Bhandari offering and asking him to drink. 9. It is correct that I had not stated in my statement Ex.PW-1/D that when Vikas Bhandari became unconscious Rajnish asked all three of us to stay in the room and he went away saying that he would call the father of Vikas from Connaught Place to demand a ransom of about Rs.20,00,000/- from him as his son in his possession. 10. It is correct that I had not stated in my statement Ex.PW-1/D that it was the plan of Rajnish that he would call the father of Vikas at some hill station and I alongwith Lal Mohd. Would stay at the room at Vaishali and he would go to the hill station alongwith Anul Haq @ Rakesh accused and that Anul Haq would collect the ransom money from the father of Vikas at some public place. 11. It is correct that I have not stated in my statement Ex.PW-1/D that Rajnish had further planned that he would be watching Anul Haq from some distance alongwith pistol and in case the father of Vikas would inform police he would shot him. 12. It is correct that I have not stated in my statement Ex.PW-1/D that Rajnish had disclosed me that he was having a mousher pistol. 13. I also did not stated in my said disclosure that Rajnish had promised to distribute the ransom money among four of us equally. 14. I also did not stated in my said statement Ex.PW-1/D that Rajnish told us that he tried to contact the father of Vikas Bhandari on phone but he could not succeed that he would again try in the morning. 15. I also have not stated in my statement Ex.PW-1/D that accused Rajnish again directed Lal Mohd. To adminter Injection to Vikas for Crl.A.Nos.587/2008, 588/2008 & 1027/2008 Page 13 of 33 sedatation and that Lal Mohd. Injected a compose injection to Vikas as a result he again slept. 16. It is correct that I have not stated in my statement Ex.PW-1/D that at about 12 midnight when Vikas again got conscious, Rajnish said that Vikas was shouting too much and someone may hear his cry and therefore he decide to kill him. 17. It is correct that I have note stated in my statement Ex.PW-1/D that Lal Mohd. Went on the motorcycle of Rajnish to find a place where the dead body can be disposed of safely and that it was again decided that he would meet in the same before 7 PM. 18. It is correct that I have not stated in my statement Ex.PW-1/D that Rajnish and Lal Mohd. went on the motorcycle and returned back with a rope and two pieces of dhoti. 19. It is correct that I have not stated in my statement that the hole-dole in which the dead body of Vikas Bhandari was wrapped belonged to Rajnish. 20. It is correct that I have stated in my statement Ex.PW-1/D that I alone went to the house of my friend Vinesh at Kaushambi and borrowed his car. 21. It is correct that I did not stated in my said statement that Vinesh was friend of Rajnish. It is correct that I have not stated in my statement Ex.PW-1/D that Rajnish borrowed the car from Vinesh which was the Maruti 800 car. 22. I also did not stated in my statement Ex.PW- 1/D that Accused Rajnish had taken the car on the pretext that he had picked up his friend from railway station. I had not stated in my statement Ex.PW-1/D that the details of sitting arrangements in the car while taking the dead body for disposal and the place where it was to be dumped.\" Crl.A.Nos.587/2008, 588/2008 & 1027/2008 Page 14 of 33 27. Vinesh PW-2 stated that he knew Rajneesh and that on 14.11.2000 he had lent his brother‟s car No.DVD 6717 to Rajneesh who returned the car to him same night at around midnight. On being cross-examined he stated that he knew that Rajneesh was residing in Gangotri but could not give any particulars of the house nor he could give any particulars about the parents, brother and sisters of Rajneesh; not even their number. To put it simply he could give no information about the family or the affairs of Rajneesh. It is apparent that the purport of the cross- examination is to drive home the point that only a good friend lends his brother‟s car to a friend and the test of two persons being good friends is the knowledge of one qua the others personal affairs and details regarding business and family etc. 28. Ashwani Kumar PW-3 deposed that he had seen all the accused and Romil Sharma conversing with Vikas Bhandari in front of Sai Baba Mandir, Savita Vihar at about 5:40 PM on 13.11.2000. He saw Rajneesh and Vikas proceeding towards Ramprasth Colony on a two-wheeler scooter and the other three following the two. 29. On being cross-examined by counsel for Rajneesh he stated that he had never visited house of Rajneesh nor had Rajneesh ever visited him. He further stated that he did not know the names of the parents, brothers and sister of Rajneesh. He admitted having no social contacts with Rajneesh. He admitted having no knowledge about the nature of work or the place from where Rajneesh worked. He stated that he knew Rakesh by name and had disclosed his name to the police. (A fact contrary to the statement Ex.PW-2/DA in which apart from Crl.A.Nos.587/2008, 588/2008 & 1027/2008 Page 15 of 33 the name of Rajneesh, Lal Mohd. and Romil Sharma it is recorded that there was another person). He stated that he learnt about Vikas being missing at around 12:30 noon on 14.11.2000 and for said reason went to the police station where his statement was recorded. On being cross- examined by counsel for Lal Mohd. he admitted that he never met Lal Mohd. prior to 13.11.2000. 30. Vijay Bhandari PW-5, the father of Vikas deposed that his son left the house for taking tuition in Sanskrit and Science and since his son did not return home he informed the PCR at around 9:00 PM on 13.11.2000 when his efforts to trace his son bore no results and that he had lodged the FIR on 14.11.2000. He deposed that on 14.11.2000 Ashwani told him that he had seen his son in the company of the accused and Romil outside Sai Baba Mandir at around 5:45 PM on 13.11.2000. He took Ashwani to PS Anand Vihar where Ashwani‟s statement was recorded. On 15.11.2000 he received information of a dead body being found in Ghaziabad. He identified the dead body in the mortuary as that of his son. On 18.11.2000 he was with the police and at Gate No.1, Yamuna Sports Complex saw Rajneesh and Romil on a two-wheeler. They were arrested at his pointing out. They made disclosure statements and took the police to House No.A-157, Sector-I, Vaishali where various recoveries as entered in memos noted in para 14 above were effected. He identified the chappals Ex.P-2, the specs Ex.P-1 and the three notebooks Ex.P-3, Ex.P-4 and Ex.P-5 recovered as that of his son. Interestingly, when the parcels containing the three notebooks were opened, out-popped from the sealed envelope a register pertaining to attendance at „Darbar Restaurant‟. How this register Crl.A.Nos.587/2008, 588/2008 & 1027/2008 Page 16 of 33 entered the sealed envelope as remained a mystery till date. 31. In cross-examination Vijay Bhandari admitted that Sai Baba Mandir is not on the way to the place where his son went for tuition from the house, nor was it on the way from the house where his son went to take the first tuition and the house where he had to go for the second tuition. 32. SI Prakash Singh PW-12 deposed that he recorded the statement of Ashwani Kumar PW-3. He further stated that he went to the house No.A-98, Yojna Vihar and met Sudha Bhatnagar who used to teach Sanskrit to Vikas and on learning from her that he had taken tuition on 13.11.2000 and left to take tuition from the other teacher he went to House No.A-41 to meet the teacher who used to teach English and Science to Vikas but could not meet him. He deposed that he took possession of the dead body of Vikas after post-mortem was conducted and that further investigation was taken over by Insp.Sarabjit Singh but stated that he joined the investigation and was a witness to the arrest of Rajneesh and Romil and that their disclosure statements Ex.PW-9/A and Ex.PW-1/D respectively were recorded in his handwriting. He deposed that Rakesh‟s disclosure statement Ex.PW-5/M was penned by him. He deposed that the various recoveries entered in the various memos as noted in para 14 above were made in his presence. He deposed that Romil Sharma led him to Vinesh Kumar and he took possession of the car DVD 6717. 33. Insp.Sarabjit Singh deposed that he apprehended Rajneesh and Romil from near Yamuna Sports Complex. He deposed to have interrogated the two. He deposed that the Crl.A.Nos.587/2008, 588/2008 & 1027/2008 Page 17 of 33 various recoveries entered in the memos noted in para 14 above, were effected in his presence and under his supervision. 34. Insp.Ramesh Kumar PW-16 corroborated the preceding two police officers but stated that he had recorded Ashwani Kumar‟s statement under Section 161 Cr.P.C., notwithstanding his claim of having formally taken over the investigation on 19.11.2000. 35. The learned Trial Judge has held that the evidence of Ashwani Kumar proves that the appellants were last seen in the company of Vikas who went missing in the evening of 13.11.2000. Refuting that Ashwani Kumar‟s statement under Section 161 Cr.P.C. recorded on 14.11.2000 was an interpolated document, the learned Trial Judge has held that it appears that the learned Metropolitan Magistrate before whom the accused were produced on 19.11.2000 signed the case diary only pertaining to 18.11.2000 and thus justified the absence of the signatures and the stamp of the learned Metropolitan Magistrate in the case diary preceding 17.11.2000. Believing Romil Sharma and the police officers who participated in the recoveries as also Vijay Bhandari, the learned Trial Judge has held that the various recoveries in the memos which have been noted in para 14 above were incriminating evidence against the appellants. Thus, the appellants have been convicted for the offence they were charged of. 36. At the forefront is the question whether Ashwani Kumar‟s (PW-3) statement Ex.PW-3/DA was recorded on 14.11.2000 or the records i.e. the case diary has been interpolated and the statement has been ante dated? Crl.A.Nos.587/2008, 588/2008 & 1027/2008 Page 18 of 33 37. It is not in dispute that when the appellants and Romil Sharma were produced before the learned Metropolitan Magistrate on 19.11.2000 a request was made to the learned Magistrate to sign the case diary and the learned Magistrate did oblige. With reference to the investigation conducted and as aforenoted, it is apparent that the statement under Section 161 Cr.P.C. of Ashwani Kumar was recorded on 14.11.2000 by SI Prakash Singh. It is also apparent that the arrest memos were dated 18.11.2000 and all the recovery memos were dated 18.11.2000. The arrest memos and each and every recovery memo bears the signatures and the stamp of the learned Magistrate. We called for the case diary and noted that the day-to-day activity noted by the investigating officer is signed and bears the stamp of the learned Magistrate but only for 18.11.2000. Surprisingly, the contents of the case diary prior to 18.11.2000 do not contain the signatures or the stamp of the learned Magistrate. 38. Now, only two things could have happened. Either the learned Magistrate was negligent or the investigating officer has tampered with the record by replacing the contents of the case diary, which on inspection by us, consists of loose sheets i.e. unbound papers. 39. The mandate of Section 167(1) Cr.P.C. requires that whenever a person is arrested and detained in custody and investigation cannot be completed in 24 hours and there are grounds to believe that the accusation or information is well-founded, the investigating officer shall transmit to the nearest judicial Magistrate a copy of the entries in the case diary. Crl.A.Nos.587/2008, 588/2008 & 1027/2008 Page 19 of 33 40. But, unfortunately, the provision is observed more in breach than in compliance. But, the Punjab Police Rules apply to the Union Territory of Delhi and the relevant rules are as under:- 25.54. Record of case Diary: (1) Case diaries shall ordinarily be submitted in Form 25.54 (1) and each sheet shall be numbered and stamped with the station stamp, Two or more copies, as may be ordered, shall be made by the carbon copying process by the officer conducting the investigation. The officers writing a case diary shall enter in such diary a list of the statement, recorded under section 161, Criminal Procedure Code, which are attached to such diary and the number of pages of which each such statements consists. (2) They shall be sent from the scene of investigation to the police station without delay. (3) On arrival at the police station the number and date of each case diary shall be recorded on the reversed of the police station copy of the first information report, and the date and hour of receipt shall be entered on each copy of the diary. (4) The original shall be dispatched with as little delay as possible to the inspector or other superior officers as may be ordered, after the time of dispatch has been entered in the space provided in the form on both the original and the copy of copies. Orders for the disposal and recorded of case diaries in the headquarters office are continued in rule 11.70. Also rule 27.38 (5) A copy of every case diary shall be retained a the police station, a separate file being maintained for each case. Such files shall be destroyed in accordance with the periods fixed in sub-rule 27.39 (5). (6) Copies of all orders received at a police station in connection with case diaries and the requires thereto shall be made on blank sheets of paper end will be attached to the case diary too which they refer. 25.55. Files or case diaries: Crl.A.Nos.587/2008, 588/2008 & 1027/2008 Page 20 of 33 (1) When a cases is sent for trial the police station file of case diaries shall be forwarded with the challan to the magistrate and on completion of the trial shall be returned to the police station for record. (2) Such file when received back at the police station also files of other cases in which the final report has been submitted shall be filed at the police station in an annual bundle A in accordance with the serial number of their first information report (3) Copies of case diaries in pending cases shall be kept in files at the police station in a separate bundle B in accordance with the numbers of their first information reports (4) A list shall be kept in each bundle A and B of all the files contained therein, merely quoting the numbers of their first information reports. Should it be necessary to remove a file form the bundle the fact will be noted in the list. 25.56. Procedure when the investigation cannot be completed 24 hours: (1) When a investigation officer requires authority to detain an accused person in police custody beyond the limits prescribed in section 61 of the code of in Criminal Procedure 1898 he shall make an application therefore in accordance with the provision of section 167, of the said code in Form 25.26 (1) to which he shall attach the case dairies or copies thereof. The Magistrate will record his orders on the above application which will not be returned to the Police, but will form part of the Magistrate proceedings. The magistrate shall sign and date every page of the case diaries or copies, thereof in token of having seen them. Application for remand shall be prepared in duplicate by the carbon copying process and a copy of the a Magistrate‟s orders will be made by the police Officer on the carbon coy of the applications, which will then be attached to the police file of the case. The copy will be attached to the charge-sheet when the case is finally sent for trial. Case diaries will not from part the judicial file. The orders of High Court in connection with the granting of remarks to the police custody are contained in Appendix No. 25.56(1). Crl.A.Nos.587/2008, 588/2008 & 1027/2008 Page 21 of 33 2. ...... 3. .....\" 41. It is apparent that the rules require the production of the entire case diary before the Magistrate concerned when an accused is produced before him by the police and an obligation is cast upon the Magistrate to sign or initial each page of the case diary. 42. That the case diary was produced in the instant case before the learned Magistrate concerned is not in dispute. It is presumed and expected that the Magistrate acted in accordance with law and did not commit a mistake. The investigating officer has not claimed that he showed only a part of the case diary to the learned Magistrate. He does not claim that by mistake the learned Magistrate did not sign the case diary which contained the various statements recorded prior to 18.11.2000. 43. But leaving the issue, a little inchoate, with an apology to the reader, but with an assurance that we would be reverting to it, let us note the contents of the statement Ex.PW-3/DA made by Ashwani Kumar. It reads as under:- \"Statement of Ashwani Kumar, S/o Sh.Roshan Lal Bakshi, R/o House No.D-133, Jhilmil Colony, Delhi u/s 161 Cr.P.C. I reside at the aforenoted address with my family and I am self-employed. On 13.11.2000 I was at Sai Baba Mandir Sarita Vihar at around 5:45 PM. I saw Vikas Bhandari standing outside the temple with his tutor Rajneesh and the servant of Rajneesh as also Romil Sharma and Lal Mohd. They were talking. The tutor Rajneesh drove away towards Ramprastha Colony with Vikas on a Kinetic Honda scooter and a bullet number whereof which I do not remember followed on Crl.A.Nos.587/2008, 588/2008 & 1027/2008 Page 22 of 33 which the other three were sitting. Vikas had a polythene bag in his hand and was wearing spectacles. When I learnt about Vikas being missing I gave said information to his father who has brought me to the police station. I know from before Vikas Bhandari, his tutor Rajneesh, the servant of Rajneesh, Lal Mohd. and Romil. You have recorded my statement which has been read over to me and is correct.\" 44. From the investigation claimed to have been conducted and the recoveries effected of the exhibits as stated to be belonging to deceased Vikas, it does strike that the contents of the aforesaid statement would corroborate that Vikas was carrying something with him in a polythene bag and was wearing spectacles. It be remembered that two copies and a Social Science book of Vikas are three exhibits stated to have been recovered on 18.11.2000 from the house A-157, Sector-I, Vaishali, Ghaziabad. A broken spectacles, stated to be belonging to Vikas has also been recovered. 45. From the statement made by Ashwani Kumar it is apparent that he has recognized appellant Rajneesh, appellant Lal Mohd. and Romil, whose names find a mention in the statement Ex.PW-3/DA. He has not named Rakesh, but has referred to a fourth person by describing him as the servant of Rajneesh. On a mere reading of the statement it become apparent that the maker thereof i.e. Ashwani Kumar, would be familiar with the servant of Rajneesh not only by face but in relation to the master-servant relationship between the two. 46. But, when we peruse the testimony and the cross-examination of Ashwani Kumar it strikes us that his claim of knowing Rajneesh, and Rajneesh being a tutor of Vikas is most uninspiring. He does not claim to have ever Crl.A.Nos.587/2008, 588/2008 & 1027/2008 Page 23 of 33 seen Rajneesh teaching Vikas. As per his testimony he is a good friend of the father of Vikas i.e. Vijay Bhandari and has good social relationship with him. But, one may not know as to who have professional or other dealings with a good friend of oneself. Further, in the statement it stands recorded that he knew Lal Mohd. from before, but while deposing in Court, Ashwani Kumar admitted that he never knew Lal Mohd. and saw him for the first time on 13.11.2000. If that be so, we find it most intriguing that Lal Mohd. has been named in the statement Ex.PW-3/DA. While deposing in Court Ashwani Kumar states that he had given the name of appellant Rakesh to the police, but admitted the same does not find a mention in his statement Ex.PW- 3/DA. It being doubtful whether Ashwani Kumar knew Rajneesh by name or by face as the tutor of Vikas, it becomes all the more doubtful that he could either name, or without naming, disclose that a servant of Rajneesh was the fourth person seen by him. As regards Romil, whom he never knew from before, and who, as per the prosecution, is a friend of Rajneesh, it is surprising that Ashwani Kumar could have named Romil in his statement Ex.PW-3/DA. It is extremely surprising that in respect of four completely unknown persons, with whom Ashwani Kumar had neither a personal nor a professional dealing, he could name three of them and in respect of the fourth describe him giving a master-servant relationship with Rajneesh. 47. The most uninspiring testimony of Ashwani Kumar and his fatal admission of not knowing Lal Mohd. prior to 13.11.2000 and having seen Lal Mohd. for the first time on 13.11.2000 and yet Lal Mohd.‟s name finding a mention in the statement Ex.PW-3/DA points in the direction Crl.A.Nos.587/2008, 588/2008 & 1027/2008 Page 24 of 33 that the said statement was recorded, not as claimed by the prosecution, and in this context the controversy of the said statement not being signed and stamp of the learned Magistrate not affixed thereon certainly leans in the direction that the said statement was in some degree of probability interpolated into the record. 48. In the aforesaid scenario it does stand to some reason, of the statement being tailor made to support the recoveries. 49. We resolve the dead lock between two probabilities: (i) the learned Magistrate committing a mistake, and (ii) the record being manipulated, by holding in favour of the latter. It not be forgotten that the accused are charged with a very serious offence which attracts the capital punishment of being sentenced to death and that the accused have been visited the penalty to undergo imprisonment for life; and the principle that graver is the offence the higher should be the quality of incriminating evidence and stricter should be the proof has been applied by us in resolving the dead lock. 50. It is obvious that a pivotal brick from the arch of the prosecution has been displaced and we feel that along with the brick falls the arch. The foundation of the breakthrough is Ashwani Kumar informing the investigating officer that he had seen Vikas in the company of the appellants and Romil; a claim which we find is seriously tainted. 51. That apart, as per the prosecution, the four accused had entered into a conspiracy to kidnap Vikas and demand ransom from his father. Such a victim is kept under watch and his movements are ascertained so that given the Crl.A.Nos.587/2008, 588/2008 & 1027/2008 Page 25 of 33 best opportunity the victim can be lured away. Ordinarily, and prudence demands so, the accused would have done, presumably, some recce, to gain information about the movements of Vikas so that their plan could be put into operation and executed with precision. Now, as per the testimony of Vijay Bhandari his son used to take tuitions at two places in Yojna Vihar. As admitted by Vijay Bhandari, Sai Baba Mandir in Sarita Vihar was not on the way from his house to the house of either teacher in Yojna Vihar where his son used to go for tuitions nor was the temple on the way between said two houses. If indeed, Vikas was lured away from Sai Baba Mandir and before he went to the temple, as deposed to by Vijay Bhandari he had attended the tuition at A-98 Yojna Vihar i.e. the house of the Sanskrit teacher and thereafter had to go to the other house to take tuition in Science, it has to be that Vikas, per chance, went to Sai Baba Mandir. This does not fit into the theory of a conspiracy being executed. It is obvious that since visit of Vikas to Sai Baba Mandir was a matter of chance, he or those who met him at the temple, did so by chance. We hasten to add that we are highlighting this feature to bring home the point that this evidence somewhat dents the theory of conspiracy, by no means should we be read to be understood that it demolishes the theory of conspiracy. 52. The evidence of last seen is most uninspiring and we are left with no option but to reject the same and unfortunately for the prosecution, not only does the theory of last seen fail but the starting point of further investigation, with the appellants being the focus as accused, stands demolished and this lays a very strong foundation to the recoveries being planted. Crl.A.Nos.587/2008, 588/2008 & 1027/2008 Page 26 of 33 53. Recoveries effected on 18.11.2000 are a pen Ex.P-6, spectacles Ex.P-1, rubber slippers Ex.P-2, Social Science book Ex.P-3, copy (Sanskrit) Ex.P-4 and copy (English) Ex.P-5. 54. The pen Ex.P-6, which surprisingly is a ordinary ball pen without any distinctive mark has been identified by Vijay Bhandari as belonging to his son. How he did so, there being no proof that Vijay Bhandari had mastered transcendental meditation, has left us mystified. The claim is an over exaggeration. It be noted that the pen was not put up for test identification. Even the recovery thereof is shrouded in mystery for the reason the pen has not been shown recovered from the personal search memo of Rajneesh but Insp.Sarabjit Singh claims that after other recoveries were made the pen was noted in the shirt pocket of Rajneesh and on being identified by Vijay Bhandari as belonging to his son, was seized. But the recovery memo shows as if the recovery is attributed to Rajneesh. 55. As per Vijay Bhandari his son used to take tuitions in Sanskrit and Science. His son had left the house to take tuitions from two teachers in both subjects. Why should the child be then carrying the Social Science Book Ex.P-3 and the English copy Ex.P-5? We find no answer. Is there not a possibility that Vijay Bhandari voluntarily handed over the same to a willing investigating officer for being planted? We think yes, at least may be. As regards the Sanskrit copy, there is no work recorded as having been done in the notebook after 9.11.2000. The learned Trial Judge has noted this, but returned a finding that there is a possibility that the Sanskrit teacher never gave or did not require Vikas to do any Sanskrit work, in writing, after Crl.A.Nos.587/2008, 588/2008 & 1027/2008 Page 27 of 33 9.11.2000 till 13.11.2000. Sanskrit language is learnt and the skill honed by writing. It is thus possible that a Sanskrit notebook lying in the house was utilized for being planted. In any case, the controversy could have been easily resolved by examining the teacher who taught Sanskrit to Vikas whose house Vikas had visited and had taken tuition on 13.11.2000 as per the claim of Vijay Bhandari. She was the best witness who could have thrown light on the issue and thus on account of not examining the best witness, the benefit has to be to the credit of the accused and not to their debit. 56. Pertaining to the other recoveries, relevant would it be to note that the specs and the chappals could also possibly be planted as also the wrappers of the tablets, the syringe and the vial. But, what is of greater damage to the case of the prosecution is that we have no evidence, save and except the inadmissible portion of the disclosure statement of all the accused and the testimony of PW-1 that the premises A-157, Vaishali, Sector-I Ghaziabad was taken on rent by Rajneesh. For unexplainable reasons the landlord of the building has not been examined as a witness. No neighbour has been examined to prove said fact. No article belonging to Rajneesh has been picked up from the house. The pointing out memo Ex.PW-1/E of the house A- 157 Sector-1, Vaishali is at the instance of Romil Sharma and not at the instance of Rajneesh. 57. In respect of the recoveries, we find some credibility in the submission made by Sh.K.K.Sud, learned senior counsel for appellant Rajneesh that if the accused, as per the prosecution, had the sense to destroy evidence by throwing away the dead body of Vikas and for which Crl.A.Nos.587/2008, 588/2008 & 1027/2008 Page 28 of 33 purpose they procured cloth, rope and a bisterband, it does not stand to logic or reason that they would keep petty, yet highly incriminating articles with them, which could be easily packed inside the bisterband and thrown along with the dead body. We further find credibility in the submission that the post-mortem report of the dead body of Vikas does not record the body being pricked with a needle, which would have been noted by the doctor who conducted the post-mortem had there been any. We also find considerable merit in the submission that save and except the testimony of Romil, the accomplice to the crime, there is no evidence that the crime took place at A-157, Sector-I, Vaishali. We further find merit in the submission that in the facts of the instant case where the evidence of break through to the crime is found seriously flawed, it would be most unsafe to sustain the conviction on the testimony of an accomplice, which even otherwise as per the requirement of law, by virtue of illustration „b‟ to Section 114 of the Evidence Act, requires corroboration in material particulars since law treats the testimony of an accomplice as tainted evidence because the accomplice is a person condemned twice over; firstly being a self-admitted party to a crime and secondly being a self-admitted person who breaches the confidence of his partners in a crime. 58. We are left wondering as to why the prosecution chose not to lead evidence that House No.A-157 Sector-1 Vaishali was under the tenancy of the appellant Rajneesh. It is a fundamental rule of Criminal Jurisprudence that not only the character but even the quality of evidence has to be taken note of while determining what value has to be attached to a piece of incriminating evidence. Crl.A.Nos.587/2008, 588/2008 & 1027/2008 Page 29 of 33 59. That takes us to the question of Romil Sharma‟s testimony, not only in relation to proof of the fact that House No.A-157 Sector-1, Vaishali was under the tenancy of Rajneesh but even with respect to the creditworthiness of his testimony. But before that, we need to answer the question of the purity of his confessional statement recorded before the learned Magistrate after he was granted pardon and accepted as an approver. 60. The relevant facts have been noted by us in paras 21 to 24 above. 61. There can be no quarrel with the proposition that by virtue of Section 306 to Section 307 of the Code of Criminal Procedure, after committal proceedings are over and charge has been framed, it is permissible for the Court of Sessions, pertaining to an offence triable exclusively by the Court of Sessions, to grant a pardon and then for the Magistrate concerned to record the statement of the approver on oath. 62. We are not impressed with the submission made by Shri K.K.Sud, learned senior counsel for appellant Rajneesh, that the pardon stands vitiated on account of Romil being subsequently enlarged on bail. There is no law which requires an approver to be kept in custody till the trial is over. Therefore, we straightway proceed to answer the question whether the learned Magistrate who recorded Romil‟s statement under Section 164 Cr.P.C. acted lawfully? As also the supplementary question: Whether there is a possibility of the prosecution conniving with Romil to make a false confession implicating the appellants and of course himself i.e. Romil, but on the assurance that Romil would be pardoned? Crl.A.Nos.587/2008, 588/2008 & 1027/2008 Page 30 of 33 63. We find an error committed by the learned Metropolitan Magistrate in his order dated 1.11.2001, relevant part whereof has been noted in para 22 above. The learned Magistrate has recorded that he has explained to Romil that he is duty bound to make a true and complete disclosure. The mandate of the law is, vide Section 164(4) Cr.P.C. to explain to the accused that he is not bound to make a confession and that, if he does so, the confession may be used as evidence against him. We do not find any evidence that the learned Metropolitan Magistrate did so. Further, with reference to the extract of the statement of Romil Sharma as reproduced by us in para 23 above we find that two very cryptic questions have been put to Romil to ascertain whether Romil Sharma was truly making, without influence, compulsion, threat or fear a confessional statement. In the decision reported as 1995 (2) SCC 76 Shivappa vs. State of Karnataka, in para 6 thereof, the Supreme Court emphasized that while recording confessions under Section 164 Cr.P.C. the Magistrate must comply not merely in the form but also in essence with the provisions of Section 164 Cr.P.C. It was highlighted that the Magistrate, before proceeding to record the confessional statement must make a searching inquiry from the accused to ensure that there is no scope for doubt of any sort of extraneous influence proceeding from a source interested in the prosecution still lurking in the mind of an accused. 64. Now, how would Romil Sharma know as to what view would be taken by the Court with respect to the testimony of Ashwani Kumar PW-3 whose statement under Section 161 Cr.P.C. was fairly incriminating, apart from other accused, Romil Sharma. But, the prosecution, may be, was Crl.A.Nos.587/2008, 588/2008 & 1027/2008 Page 31 of 33 wary of its case, probably having knowledge of interpolating the record. Such a prosecutor would certainly be motivated to try and have somebody as an approver, and given the situation in which it found itself, possibly influenced or motivated Romil Sharma. 65. Vis-a-vis his disclosure statement and his testimony in Court we have noted in para 26 above as many as 22 improvements. To be fair to the prosecution we must record that he has deposed in substantial sync with his confessional statement. 66. But we find significant, over enthusiastic statements made by him in his confessional statement as also while deposing in Court; for example he has said that after Vikas was brought to the house of Rajneesh, through the mobile phone of Rajneesh, Vikas telephoned at his house and informed that he will come back after half-an- hour; a fact not deposed to by the father of Rajneesh. But we do not intend to pen profile such over enthusiastic statements, for the reason, we believe, the surrounding facts and circumstances compel our judicial conscience to lean against the voluntariness of Romil‟s confessional statement recorded before the Magistrate (the same being motivated by the prosecution under the bargain of a pardon) not only on account of the cryptic inquiry conducted by the learned Magistrate before recording the satisfaction that the statement was voluntary, but even on account of material improvements in the said statement which find a reflection in the testimony of Romil when he deposed in Court, vis-a-vis his first confessional-cum-disclosure statement. Crl.A.Nos.587/2008, 588/2008 & 1027/2008 Page 32 of 33 67. It is unfortunate that a crime is going unpunished, but we cannot help for the reason we have to be dictated not by emotions but by our judicial conscience which requires us to be guided by law and prudence. 68. The weak and insufficient quality of the prosecution evidence, our reasons for demolishing Ashwani Kumar‟s (PW-3) statement Ex.PW-3/DA as a contemporaneous recording of the same which taints the further evidence and the investigation and the surrounding circumstances, as have been discussed by us hereinabove, compel us to grant the benefit of doubt to the appellants. 69. The appeals are allowed. The impugned judgment and order dated 15.5.2008 convicting the appellants for the offences they were charged of is set aside. The appellants are acquitted of the charge framed against them. The order on sentence dated 24.5.2008 is also set aside. 70. Since the appellants are in jail we direct that a copy of this decision in each appeal be sent to the Superintendent, Central Jail Tihar who is directed to release the appellants forthwith if not required in custody in any other case. (PRADEEP NANDRAJOG) JUDGE (SURESH KAIT) MAY 28, 2010 JUDGE mm Crl.A.Nos.587/2008, 588/2008 & 1027/2008 Page 33 of 33'"
      ]
     },
     "execution_count": 22,
     "metadata": {},
     "output_type": "execute_result"
    }
   ],
   "source": [
    "X_train[0]"
   ]
  },
  {
   "cell_type": "code",
   "execution_count": 37,
   "metadata": {
    "scrolled": true
   },
   "outputs": [
    {
     "data": {
      "text/plain": [
       "array([ 0.5646442 , -2.5992346 , -0.05815776,  0.3274315 ,  1.4208007 ,\n",
       "       -1.8943341 , -3.618582  , -2.034222  , -1.7488456 ,  0.56329185,\n",
       "        3.5574992 ,  0.39721814,  0.9449101 ,  0.5164473 , -3.5023751 ,\n",
       "        3.7700021 ,  1.2114936 ,  0.22689487,  0.9830784 , -1.3527882 ,\n",
       "        1.451218  , -0.39223608, -0.7026509 ,  0.82619846,  0.4257404 ,\n",
       "       -0.0438143 ,  2.8201907 , -2.9873667 , -1.5215774 , -2.7122416 ,\n",
       "        2.1072848 ,  0.26088938,  0.21345818,  1.6717315 , -0.06933811,\n",
       "        4.031834  , -0.24997051, -3.1603007 , -0.70234865, -0.05197067,\n",
       "        0.38452938,  0.32595223,  1.550431  , -0.6657049 , -0.36018273,\n",
       "        1.180123  ,  1.71784   , -3.6103935 ,  1.9566271 , -0.7678512 ],\n",
       "      dtype=float32)"
      ]
     },
     "execution_count": 37,
     "metadata": {},
     "output_type": "execute_result"
    }
   ],
   "source": [
    "model.docvecs[0]"
   ]
  },
  {
   "cell_type": "code",
   "execution_count": 38,
   "metadata": {},
   "outputs": [
    {
     "data": {
      "text/plain": [
       "array([ 0.7936519 , -0.667344  , -4.993705  , -3.274565  ,  6.4008102 ,\n",
       "       -1.9930494 , -3.0423315 , -4.168771  ,  2.00991   ,  3.0041711 ,\n",
       "       -3.4352326 ,  5.793452  , -2.6655002 ,  7.5073695 , -2.1656098 ,\n",
       "       -0.58859026,  3.7716396 ,  6.001111  ,  8.88924   , -8.507391  ,\n",
       "       -0.08088927, -0.95811266, -1.0969253 ,  0.8036708 , -0.81239146,\n",
       "       -0.2232343 , -1.5667877 , -1.1187072 , -1.903943  , -1.6598088 ,\n",
       "        1.063276  , -4.0509853 ,  0.08777456,  1.2767138 , -2.3097098 ,\n",
       "        2.7633848 , -0.5242196 , -8.916693  , -0.41054943, -6.7323785 ,\n",
       "       -2.1042552 ,  5.883368  , -2.7243452 ,  1.736604  ,  4.040929  ,\n",
       "        0.43003988,  3.4461567 ,  2.8299716 ,  0.38630265, -5.228234  ],\n",
       "      dtype=float32)"
      ]
     },
     "execution_count": 38,
     "metadata": {},
     "output_type": "execute_result"
    }
   ],
   "source": [
    "model.docvecs[1]"
   ]
  },
  {
   "cell_type": "code",
   "execution_count": 40,
   "metadata": {},
   "outputs": [],
   "source": [
    "doc_id = 23\n",
    "inferred_vector = model.infer_vector(test_corpus[doc_id])\n",
    "sims = model.dv.most_similar([inferred_vector], topn=10)"
   ]
  },
  {
   "cell_type": "code",
   "execution_count": 60,
   "metadata": {},
   "outputs": [
    {
     "data": {
      "text/plain": [
       "[(1757, 0.9748429656028748),\n",
       " (1758, 0.9711358547210693),\n",
       " (3192, 0.8227819204330444),\n",
       " (3189, 0.7538601756095886),\n",
       " (3715, 0.7513518929481506),\n",
       " (4806, 0.748935878276825),\n",
       " (2702, 0.744621217250824),\n",
       " (1609, 0.729759931564331),\n",
       " (488, 0.7286121249198914),\n",
       " (775, 0.7266330718994141)]"
      ]
     },
     "execution_count": 60,
     "metadata": {},
     "output_type": "execute_result"
    }
   ],
   "source": [
    "sims"
   ]
  },
  {
   "cell_type": "code",
   "execution_count": 28,
   "metadata": {},
   "outputs": [],
   "source": [
    "inferred_vector = model.infer_vector(train_corpus[doc_id].words)"
   ]
  },
  {
   "cell_type": "code",
   "execution_count": 32,
   "metadata": {},
   "outputs": [],
   "source": [
    "train_vectors = np.zeros((len(train_corpus),50))"
   ]
  },
  {
   "cell_type": "code",
   "execution_count": 33,
   "metadata": {},
   "outputs": [
    {
     "name": "stderr",
     "output_type": "stream",
     "text": [
      "100%|██████████| 477/477 [06:49<00:00,  1.17it/s]\n"
     ]
    }
   ],
   "source": [
    "for doc_id in tqdm(range(len(train_corpus))):\n",
    "    train_vectors[doc_id,:] = model.infer_vector(train_corpus[doc_id].words)"
   ]
  },
  {
   "cell_type": "code",
   "execution_count": 34,
   "metadata": {
    "scrolled": true
   },
   "outputs": [
    {
     "name": "stderr",
     "output_type": "stream",
     "text": [
      "100%|██████████| 120/120 [01:38<00:00,  1.22it/s]\n"
     ]
    }
   ],
   "source": [
    "test_vectors = np.zeros((len(test_corpus),50))\n",
    "\n",
    "for doc_id in tqdm(range(len(test_corpus))):\n",
    "    test_vectors[doc_id,:] = model.infer_vector(test_corpus[doc_id])"
   ]
  },
  {
   "cell_type": "code",
   "execution_count": 37,
   "metadata": {},
   "outputs": [],
   "source": [
    "import xgboost as xgb\n",
    "xgb_model = xgb.XGBClassifier(\n",
    "    learning_rate = 0.175,\n",
    "    n_estimators = 100,\n",
    "    reg_lambda = 0.01,\n",
    "    reg_alpha = 0.1,\n",
    "    #sub_sample = 0.8,\n",
    "    seed = 60,\n",
    "    objective = 'binary:logistic',\n",
    "    max_depth=60,\n",
    "    min_child_weight=10)"
   ]
  },
  {
   "cell_type": "code",
   "execution_count": 38,
   "metadata": {},
   "outputs": [
    {
     "name": "stdout",
     "output_type": "stream",
     "text": [
      "[14:56:33] WARNING: ../src/learner.cc:1095: Starting in XGBoost 1.3.0, the default evaluation metric used with the objective 'binary:logistic' was changed from 'error' to 'logloss'. Explicitly set eval_metric if you'd like to restore the old behavior.\n"
     ]
    },
    {
     "data": {
      "text/plain": [
       "XGBClassifier(base_score=0.5, booster='gbtree', colsample_bylevel=1,\n",
       "              colsample_bynode=1, colsample_bytree=1, gamma=0, gpu_id=-1,\n",
       "              importance_type='gain', interaction_constraints='',\n",
       "              learning_rate=0.175, max_delta_step=0, max_depth=60,\n",
       "              min_child_weight=10, missing=nan, monotone_constraints='()',\n",
       "              n_estimators=100, n_jobs=4, num_parallel_tree=1, random_state=60,\n",
       "              reg_alpha=0.1, reg_lambda=0.01, scale_pos_weight=1, seed=60,\n",
       "              subsample=1, tree_method='exact', validate_parameters=1,\n",
       "              verbosity=None)"
      ]
     },
     "execution_count": 38,
     "metadata": {},
     "output_type": "execute_result"
    }
   ],
   "source": [
    "xgb_model.fit(train_vectors,y_train.values)"
   ]
  },
  {
   "cell_type": "code",
   "execution_count": 39,
   "metadata": {},
   "outputs": [
    {
     "name": "stdout",
     "output_type": "stream",
     "text": [
      "Area under the ROC curve on the test data = 0.6394\n",
      "Accuracy test data = 0.6167\n"
     ]
    }
   ],
   "source": [
    "print(f'Area under the ROC curve on the test data = {round(metrics.roc_auc_score(y_test.values, xgb_model.predict_proba(test_vectors)[:,1]), 4)}')\n",
    "print(f'Accuracy test data = {round(metrics.accuracy_score(y_test.values, xgb_model.predict(test_vectors)), 4)}')\n"
   ]
  },
  {
   "cell_type": "code",
   "execution_count": null,
   "metadata": {},
   "outputs": [],
   "source": []
  },
  {
   "cell_type": "code",
   "execution_count": 40,
   "metadata": {},
   "outputs": [],
   "source": [
    "import pickle\n",
    "file_name = \"xgb_harsh_lenient.pkl\"\n",
    "\n",
    "# save\n",
    "pickle.dump(xgb_model, open(file_name, \"wb\"))"
   ]
  },
  {
   "cell_type": "code",
   "execution_count": 2,
   "metadata": {},
   "outputs": [
    {
     "name": "stderr",
     "output_type": "stream",
     "text": [
      "100%|██████████| 5000/5000 [37:29<00:00,  2.22it/s] \n"
     ]
    }
   ],
   "source": [
    "# Treatment Prediction on Complete Dataset\n",
    "from gensim.models import Word2Vec\n",
    "from gensim.parsing.preprocessing import remove_stopwords\n",
    "\n",
    "from gensim.parsing.porter import PorterStemmer\n",
    "porter_stemmer = PorterStemmer()\n",
    "from gensim import corpora, models, similarities\n",
    "import gensim\n",
    "\n",
    "from bs4 import BeautifulSoup\n",
    "import pandas as pd\n",
    "import numpy as np\n",
    "import os\n",
    "from tqdm import tqdm\n",
    "import warnings\n",
    "warnings.filterwarnings('ignore')\n",
    "import shutil\n",
    "import re\n",
    "import time\n",
    "\n",
    "model = gensim.models.doc2vec.Doc2Vec.load('/scratch/kv942/Dejure/my_doc2vec_model')\n",
    "\n",
    "import pickle\n",
    "file_name = \"corpus.pkl\"\n",
    "test_corpus = pickle.load(open(file_name, \"rb\"))\n",
    "\n",
    "test_corpus = test_corpus[:5000]\n",
    "\n",
    "test_vectors = np.zeros((len(test_corpus),50))\n",
    "\n",
    "for doc_id in tqdm(range(len(test_corpus))):\n",
    "    test_vectors[doc_id,:] = model.infer_vector(test_corpus[doc_id])\n",
    "\n",
    "\n",
    "pickle.dump(test_vectors,open('test_vectors_1.pkl','wb'))\n"
   ]
  },
  {
   "cell_type": "code",
   "execution_count": 59,
   "metadata": {},
   "outputs": [],
   "source": [
    "model_data = pd.read_pickle(\"model_data.pkl\")"
   ]
  },
  {
   "cell_type": "code",
   "execution_count": 57,
   "metadata": {},
   "outputs": [],
   "source": [
    "df2['harsh'] = model.predict(test_vectors)"
   ]
  },
  {
   "cell_type": "code",
   "execution_count": 60,
   "metadata": {},
   "outputs": [
    {
     "data": {
      "text/plain": [
       "0    23301\n",
       "1     7751\n",
       "Name: harsh, dtype: int64"
      ]
     },
     "execution_count": 60,
     "metadata": {},
     "output_type": "execute_result"
    }
   ],
   "source": [
    "df2['harsh'].value_counts()"
   ]
  },
  {
   "cell_type": "code",
   "execution_count": null,
   "metadata": {},
   "outputs": [],
   "source": []
  },
  {
   "cell_type": "code",
   "execution_count": null,
   "metadata": {},
   "outputs": [],
   "source": []
  }
 ],
 "metadata": {
  "kernelspec": {
   "display_name": "Python 3",
   "language": "python",
   "name": "python3"
  },
  "language_info": {
   "codemirror_mode": {
    "name": "ipython",
    "version": 3
   },
   "file_extension": ".py",
   "mimetype": "text/x-python",
   "name": "python",
   "nbconvert_exporter": "python",
   "pygments_lexer": "ipython3",
   "version": "3.8.5"
  }
 },
 "nbformat": 4,
 "nbformat_minor": 4
}
