{
 "cells": [
  {
   "cell_type": "code",
   "execution_count": 1,
   "metadata": {},
   "outputs": [],
   "source": [
    "from bs4 import BeautifulSoup\n",
    "import pandas as pd\n",
    "import numpy as np\n",
    "import os\n",
    "from tqdm import tqdm\n",
    "import warnings\n",
    "warnings.filterwarnings('ignore')\n",
    "import shutil\n",
    "from tqdm import tqdm"
   ]
  },
  {
   "cell_type": "code",
   "execution_count": 2,
   "metadata": {},
   "outputs": [],
   "source": [
    "return_list=[]\n",
    "for i in range(2000,2021):\n",
    "    for filenames in os.walk('./chennai/'+str(i)):\n",
    "        for file_list in filenames:\n",
    "            for file_name in file_list:\n",
    "                if file_name.endswith((\".txt\")):\n",
    "                    return_list.append('/scratch/kv942/Dejure/chennai/'+str(i)+\"/\"+file_name)"
   ]
  },
  {
   "cell_type": "code",
   "execution_count": 27,
   "metadata": {},
   "outputs": [],
   "source": [
    "import re"
   ]
  },
  {
   "cell_type": "code",
   "execution_count": 28,
   "metadata": {},
   "outputs": [],
   "source": [
    "crime_list = ['crl.o.p','crl','criminal original petition','crime','cr.p.c','crl','criminal']"
   ]
  },
  {
   "cell_type": "code",
   "execution_count": 29,
   "metadata": {},
   "outputs": [],
   "source": [
    "regex = re.compile(\"(?=(\" + \"|\".join(map(re.escape, crime_list)) + \"))\")"
   ]
  },
  {
   "cell_type": "code",
   "execution_count": 30,
   "metadata": {},
   "outputs": [
    {
     "data": {
      "text/plain": [
       "re.compile(r'(?=(crl\\.o\\.p|crl|criminal\\ original\\ petition|crime|cr\\.p\\.c|crl|criminal))',\n",
       "re.UNICODE)"
      ]
     },
     "execution_count": 30,
     "metadata": {},
     "output_type": "execute_result"
    }
   ],
   "source": [
    "regex"
   ]
  },
  {
   "cell_type": "code",
   "execution_count": 35,
   "metadata": {},
   "outputs": [],
   "source": [
    "crime_cases = []"
   ]
  },
  {
   "cell_type": "code",
   "execution_count": 36,
   "metadata": {},
   "outputs": [
    {
     "name": "stderr",
     "output_type": "stream",
     "text": [
      "100%|██████████| 1/1 [00:00<00:00, 276.29it/s]\n"
     ]
    }
   ],
   "source": [
    "# Data Cleaning\n",
    "for i in tqdm(range(19,20)):\n",
    "    try:\n",
    "        #print(i)\n",
    "        text= open(return_list[i],'r').read()\n",
    "        parsed_html = BeautifulSoup(text)\n",
    "        text = parsed_html.body.find('div', attrs={'class':'judgments'}).text\n",
    "        text = ' '.join(text.split()).replace('http://www.judis.nic.in',\"\").lower()\n",
    "        #print(text)\n",
    "        #print(len(re.findall(regex, text)))\n",
    "        if(len(set(re.findall(regex, text)))>1 ):\n",
    "            crime_cases.append(return_list[i])\n",
    "    except:\n",
    "        continue\n",
    "    "
   ]
  },
  {
   "cell_type": "code",
   "execution_count": 342,
   "metadata": {
    "scrolled": true
   },
   "outputs": [],
   "source": [
    "crime_df = pd.DataFrame(crime_cases,columns=['Path'])"
   ]
  },
  {
   "cell_type": "code",
   "execution_count": 345,
   "metadata": {},
   "outputs": [],
   "source": [
    "crime_df.to_csv(\"/scratch/kv942/Dejure/chennai_2000_2019.csv\",index=False)"
   ]
  },
  {
   "cell_type": "code",
   "execution_count": 12,
   "metadata": {},
   "outputs": [],
   "source": [
    "from bs4 import BeautifulSoup\n",
    "import os\n",
    "import pandas as pd\n",
    "import datetime as dt\n",
    "\n",
    "class extractMetadata():\n",
    "    def __init__(self, fpath):\n",
    "        with open(fpath, 'r') as f:\n",
    "            self.soup = BeautifulSoup(f.read(), 'html.parser').find('div', attrs={'class':\"judgments\"})\n",
    "        self.case_text = self.soup.text\n",
    "\n",
    "    def null_check(self, soup_item, attr):\n",
    "        if attr=='text':\n",
    "            try:\n",
    "                return soup_item.text\n",
    "            except:\n",
    "                return\n",
    "        else:\n",
    "            return soup_item.find(attr)\n",
    "\n",
    "\n",
    "    def get_court(self):\n",
    "        source = self.soup.find('div', attrs={'class':'docsource_main'})\n",
    "        self.court = self.null_check(source, 'text')\n",
    "        return self.court\n",
    "\n",
    "    def get_pre(self):\n",
    "        pre = self.soup.find('pre')\n",
    "        self.pre = self.null_check(pre, 'text')\n",
    "        return self.pre\n",
    "\n",
    "    def get_title(self):\n",
    "        title = self.null_check(self.soup.find_all('div', attrs={'class': 'doc_title'})[-1], 'text')\n",
    "        self.title = title\n",
    "        small_title, date = title.split(' on ')\n",
    "        self.petitioner, self.respondent = small_title.split(' vs ')\n",
    "        date = dt.datetime.strptime(date.strip(), '%d %B, %Y').date()\n",
    "        self.date = dt.datetime.strftime(date, '%d-%m-%Y')\n",
    "        return self.title\n",
    "\n",
    "    def get_author(self):\n",
    "        # NOTE: the author could be mentioned in the pretag when listing the CORAM\n",
    "        author = self.null_check(self.soup.find('div', attrs={'class':'doc_author'}), 'text')\n",
    "        if author:\n",
    "            self.author = author.split('Author:')[-1]\n",
    "        else:\n",
    "            self.author = None\n",
    "        return self.author\n",
    "\n",
    "    def get_bench(self):\n",
    "        bench = self.null_check(self.soup.find('div', attrs={'class':'doc_bench'}), 'text')\n",
    "        if bench:\n",
    "            self.bench = bench.split('Bench:')[-1]\n",
    "        else:\n",
    "            self.bench = None\n",
    "        return self.bench\n",
    "\n",
    "    def get_eq_citations(self):\n",
    "        eq_citations = self.null_check(self.soup.find('div', attrs={'class':'doc_citations'}), 'text')\n",
    "        if eq_citations:\n",
    "            self.eq_citations = eq_citations.split('Equivalent citations:')[-1]\n",
    "        else:\n",
    "            self.eq_citations = None\n",
    "        return self.eq_citations\n",
    "\n",
    "    def get_jud_order(self):\n",
    "        # make a guess about whether the document is a judgment or an order\n",
    "        # 0 if ambiguous, 1 if judgment, -1 if order\n",
    "\n",
    "        self.jud_order = 0\n",
    "        if any([x in self.case_text for x in ['JUDGMENT', 'JUDGEMENT']]):\n",
    "            self.jud_order += 1\n",
    "\n",
    "        if 'ORDER' in self.case_text:\n",
    "            self.jud_order+=1\n",
    "        \n",
    "        return self.jud_order\n",
    "\n",
    "    def get_citations(self):\n",
    "        # note: these citations are to both cases and statutes\n",
    "        self.citations = [x['href'] for x in self.soup.find_all('a')]\n",
    "        return self.citations\n",
    "\n",
    "    def get_all_info(self):\n",
    "        info = {}\n",
    "\n",
    "        self.get_citations()\n",
    "        self.get_jud_order()\n",
    "        self.get_eq_citations()\n",
    "        self.get_court()\n",
    "        self.get_bench()\n",
    "        self.get_author()\n",
    "        self.get_title()\n",
    "        self.get_pre()\n",
    "\n",
    "        info['court'] = self.court\n",
    "        info['author'] = self.author\n",
    "        info['title'] = self.title\n",
    "        info['petitioner'] = self.petitioner\n",
    "        info['respondent'] = self.respondent\n",
    "        info['doc_date'] = self.date\n",
    "        #info['pre'] = self.pre\n",
    "        info['citations'] = self.citations\n",
    "        info['eq_citations'] = self.eq_citations\n",
    "        info['judgment_order'] = self.jud_order\n",
    "        return info\n",
    "\n"
   ]
  },
  {
   "cell_type": "code",
   "execution_count": 13,
   "metadata": {},
   "outputs": [
    {
     "name": "stdout",
     "output_type": "stream",
     "text": [
      "{'court': 'Madras High Court', 'author': None, 'title': 'A.Selvaraj vs The District Collector on 22 February, 2019', 'petitioner': 'A.Selvaraj', 'respondent': 'The District Collector', 'doc_date': '22-02-2019', 'citations': ['/doc/1712542/'], 'eq_citations': None, 'judgment_order': 1}\n"
     ]
    }
   ],
   "source": [
    "\n",
    "case = extractMetadata(\"/scratch/kv942/Dejure/chennai/2019/153146110.txt\")\n",
    "info = case.get_all_info()\n",
    "print(info)\n"
   ]
  },
  {
   "cell_type": "code",
   "execution_count": 15,
   "metadata": {},
   "outputs": [
    {
     "name": "stderr",
     "output_type": "stream",
     "text": [
      "100%|██████████| 5000/5000 [02:03<00:00, 40.49it/s]\n"
     ]
    }
   ],
   "source": [
    "for i in tqdm(range(len(return_list[:5000]))):\n",
    "    try:        \n",
    "        text = return_list[i]\n",
    "        case = extractMetadata(\"/scratch/kv942/Dejure/chennai/2019/\"+text)\n",
    "        info = case.get_all_info()\n",
    "        if i==0:\n",
    "            df = pd.DataFrame(data=[info])\n",
    "        else:\n",
    "            df = df.append(pd.DataFrame(data=[info]), ignore_index=True)\n",
    "    except:\n",
    "        continue\n"
   ]
  },
  {
   "cell_type": "code",
   "execution_count": 16,
   "metadata": {},
   "outputs": [
    {
     "data": {
      "text/html": [
       "<div>\n",
       "<style scoped>\n",
       "    .dataframe tbody tr th:only-of-type {\n",
       "        vertical-align: middle;\n",
       "    }\n",
       "\n",
       "    .dataframe tbody tr th {\n",
       "        vertical-align: top;\n",
       "    }\n",
       "\n",
       "    .dataframe thead th {\n",
       "        text-align: right;\n",
       "    }\n",
       "</style>\n",
       "<table border=\"1\" class=\"dataframe\">\n",
       "  <thead>\n",
       "    <tr style=\"text-align: right;\">\n",
       "      <th></th>\n",
       "      <th>court</th>\n",
       "      <th>author</th>\n",
       "      <th>title</th>\n",
       "      <th>petitioner</th>\n",
       "      <th>respondent</th>\n",
       "      <th>doc_date</th>\n",
       "      <th>citations</th>\n",
       "      <th>eq_citations</th>\n",
       "      <th>judgment_order</th>\n",
       "    </tr>\n",
       "  </thead>\n",
       "  <tbody>\n",
       "    <tr>\n",
       "      <th>0</th>\n",
       "      <td>Madras High Court</td>\n",
       "      <td>None</td>\n",
       "      <td>Win Win Varthakaa Private Ltd vs The Union Of ...</td>\n",
       "      <td>Win Win Varthakaa Private Ltd</td>\n",
       "      <td>The Union Of India</td>\n",
       "      <td>28-06-2019</td>\n",
       "      <td>[/doc/1712542/]</td>\n",
       "      <td>None</td>\n",
       "      <td>1</td>\n",
       "    </tr>\n",
       "    <tr>\n",
       "      <th>1</th>\n",
       "      <td>Madras High Court</td>\n",
       "      <td>None</td>\n",
       "      <td>A.Selvaraj vs The District Collector on 22 Feb...</td>\n",
       "      <td>A.Selvaraj</td>\n",
       "      <td>The District Collector</td>\n",
       "      <td>22-02-2019</td>\n",
       "      <td>[/doc/1712542/]</td>\n",
       "      <td>None</td>\n",
       "      <td>1</td>\n",
       "    </tr>\n",
       "    <tr>\n",
       "      <th>2</th>\n",
       "      <td>Madras High Court</td>\n",
       "      <td>None</td>\n",
       "      <td>K.Kanchana vs The Regional Manager on 9 Januar...</td>\n",
       "      <td>K.Kanchana</td>\n",
       "      <td>The Regional Manager</td>\n",
       "      <td>09-01-2019</td>\n",
       "      <td>[/doc/1712542/]</td>\n",
       "      <td>None</td>\n",
       "      <td>1</td>\n",
       "    </tr>\n",
       "    <tr>\n",
       "      <th>3</th>\n",
       "      <td>Madras High Court</td>\n",
       "      <td>None</td>\n",
       "      <td>Mrs.V.Vasantha vs K.Manikandaram on 25 October...</td>\n",
       "      <td>Mrs.V.Vasantha</td>\n",
       "      <td>K.Manikandaram</td>\n",
       "      <td>25-10-2019</td>\n",
       "      <td>[/doc/147367599/, /doc/136948773/, /doc/147367...</td>\n",
       "      <td>None</td>\n",
       "      <td>1</td>\n",
       "    </tr>\n",
       "    <tr>\n",
       "      <th>4</th>\n",
       "      <td>Madras High Court</td>\n",
       "      <td>None</td>\n",
       "      <td>N.Kumar vs The State Of Tamil Nadu on 4 March,...</td>\n",
       "      <td>N.Kumar</td>\n",
       "      <td>The State Of Tamil Nadu</td>\n",
       "      <td>04-03-2019</td>\n",
       "      <td>[/doc/1712542/]</td>\n",
       "      <td>None</td>\n",
       "      <td>1</td>\n",
       "    </tr>\n",
       "  </tbody>\n",
       "</table>\n",
       "</div>"
      ],
      "text/plain": [
       "               court author  \\\n",
       "0  Madras High Court   None   \n",
       "1  Madras High Court   None   \n",
       "2  Madras High Court   None   \n",
       "3  Madras High Court   None   \n",
       "4  Madras High Court   None   \n",
       "\n",
       "                                               title  \\\n",
       "0  Win Win Varthakaa Private Ltd vs The Union Of ...   \n",
       "1  A.Selvaraj vs The District Collector on 22 Feb...   \n",
       "2  K.Kanchana vs The Regional Manager on 9 Januar...   \n",
       "3  Mrs.V.Vasantha vs K.Manikandaram on 25 October...   \n",
       "4  N.Kumar vs The State Of Tamil Nadu on 4 March,...   \n",
       "\n",
       "                      petitioner               respondent    doc_date  \\\n",
       "0  Win Win Varthakaa Private Ltd       The Union Of India  28-06-2019   \n",
       "1                     A.Selvaraj   The District Collector  22-02-2019   \n",
       "2                     K.Kanchana     The Regional Manager  09-01-2019   \n",
       "3                 Mrs.V.Vasantha           K.Manikandaram  25-10-2019   \n",
       "4                        N.Kumar  The State Of Tamil Nadu  04-03-2019   \n",
       "\n",
       "                                           citations eq_citations  \\\n",
       "0                                    [/doc/1712542/]         None   \n",
       "1                                    [/doc/1712542/]         None   \n",
       "2                                    [/doc/1712542/]         None   \n",
       "3  [/doc/147367599/, /doc/136948773/, /doc/147367...         None   \n",
       "4                                    [/doc/1712542/]         None   \n",
       "\n",
       "   judgment_order  \n",
       "0               1  \n",
       "1               1  \n",
       "2               1  \n",
       "3               1  \n",
       "4               1  "
      ]
     },
     "execution_count": 16,
     "metadata": {},
     "output_type": "execute_result"
    }
   ],
   "source": [
    "df.head()"
   ]
  },
  {
   "cell_type": "code",
   "execution_count": 17,
   "metadata": {
    "scrolled": true
   },
   "outputs": [
    {
     "data": {
      "text/html": [
       "<div>\n",
       "<style scoped>\n",
       "    .dataframe tbody tr th:only-of-type {\n",
       "        vertical-align: middle;\n",
       "    }\n",
       "\n",
       "    .dataframe tbody tr th {\n",
       "        vertical-align: top;\n",
       "    }\n",
       "\n",
       "    .dataframe thead th {\n",
       "        text-align: right;\n",
       "    }\n",
       "</style>\n",
       "<table border=\"1\" class=\"dataframe\">\n",
       "  <thead>\n",
       "    <tr style=\"text-align: right;\">\n",
       "      <th></th>\n",
       "      <th>respondent</th>\n",
       "    </tr>\n",
       "  </thead>\n",
       "  <tbody>\n",
       "    <tr>\n",
       "      <th>The Superintendent Of Police</th>\n",
       "      <td>286</td>\n",
       "    </tr>\n",
       "    <tr>\n",
       "      <th>The District Collector</th>\n",
       "      <td>261</td>\n",
       "    </tr>\n",
       "    <tr>\n",
       "      <th>The Revenue Divisional Officer</th>\n",
       "      <td>202</td>\n",
       "    </tr>\n",
       "    <tr>\n",
       "      <th>The Inspector Of Police</th>\n",
       "      <td>202</td>\n",
       "    </tr>\n",
       "    <tr>\n",
       "      <th>The State Of Tamil Nadu</th>\n",
       "      <td>179</td>\n",
       "    </tr>\n",
       "  </tbody>\n",
       "</table>\n",
       "</div>"
      ],
      "text/plain": [
       "                                respondent\n",
       "The Superintendent Of Police           286\n",
       "The District Collector                 261\n",
       "The Revenue Divisional Officer         202\n",
       "The Inspector Of Police                202\n",
       "The State Of Tamil Nadu                179"
      ]
     },
     "execution_count": 17,
     "metadata": {},
     "output_type": "execute_result"
    }
   ],
   "source": [
    "temp = pd.DataFrame(df.respondent.value_counts())\n",
    "temp.head()"
   ]
  },
  {
   "cell_type": "code",
   "execution_count": null,
   "metadata": {},
   "outputs": [],
   "source": []
  }
 ],
 "metadata": {
  "kernelspec": {
   "display_name": "Python 3",
   "language": "python",
   "name": "python3"
  },
  "language_info": {
   "codemirror_mode": {
    "name": "ipython",
    "version": 3
   },
   "file_extension": ".py",
   "mimetype": "text/x-python",
   "name": "python",
   "nbconvert_exporter": "python",
   "pygments_lexer": "ipython3",
   "version": "3.8.5"
  }
 },
 "nbformat": 4,
 "nbformat_minor": 4
}
